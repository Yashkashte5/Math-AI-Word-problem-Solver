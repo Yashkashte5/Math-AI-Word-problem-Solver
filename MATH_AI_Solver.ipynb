{
 "cells": [
  {
   "cell_type": "code",
   "execution_count": 1,
   "metadata": {
    "colab": {
     "base_uri": "https://localhost:8080/"
    },
    "id": "gV13lV07b2eb",
    "outputId": "35ec20f3-9837-4cbc-fbf4-5333bbbe647a"
   },
   "outputs": [],
   "source": [
    "import pandas as pd\n",
    "import re\n",
    "import os\n",
    "import time\n",
    "import random\n",
    "import numpy as np\n",
    "\n",
    "try:\n",
    "  %tensorflow_version 2.x # enable TF 2.x in Colab\n",
    "except Exception:\n",
    "  pass\n",
    "\n",
    "import tensorflow as tf\n",
    "import tensorflow_datasets as tfds\n",
    "import matplotlib.pyplot as plt\n",
    "import matplotlib.ticker as ticker\n",
    "from sklearn.model_selection import train_test_split\n",
    "\n",
    "import pickle\n",
    "\n",
    "import spacy\n",
    "\n",
    "nlp = spacy.load(\"en_core_web_sm\")\n",
    "from nltk.translate.bleu_score import corpus_bleu"
   ]
  },
  {
   "cell_type": "code",
   "execution_count": 2,
   "metadata": {
    "colab": {
     "base_uri": "https://localhost:8080/"
    },
    "id": "zeMseyw3dBMf",
    "outputId": "313d7994-4fa5-48ba-a84f-f945e5dd5d40"
   },
   "outputs": [
    {
     "data": {
      "text/plain": [
       "\"from google.colab import drive\\ndrive.mount('/content/drive')\""
      ]
     },
     "execution_count": 2,
     "metadata": {},
     "output_type": "execute_result"
    }
   ],
   "source": [
    "'''from google.colab import drive\n",
    "drive.mount('/content/drive')'''"
   ]
  },
  {
   "cell_type": "code",
   "execution_count": 3,
   "metadata": {
    "id": "bxwXbAePdPHA"
   },
   "outputs": [],
   "source": [
    "with open('D:\\MATH_AI\\Project\\MAWPS_Augmented.pkl', 'rb') as f:\n",
    "    df = pickle.load(f)"
   ]
  },
  {
   "cell_type": "code",
   "execution_count": 4,
   "metadata": {
    "colab": {
     "base_uri": "https://localhost:8080/"
    },
    "id": "A_I-UFl5dWv4",
    "outputId": "8da53400-e286-4c9a-916a-da2b7850d851"
   },
   "outputs": [
    {
     "data": {
      "text/plain": [
       "(38144, 2)"
      ]
     },
     "execution_count": 4,
     "metadata": {},
     "output_type": "execute_result"
    }
   ],
   "source": [
    "df.shape"
   ]
  },
  {
   "cell_type": "code",
   "execution_count": 5,
   "metadata": {
    "colab": {
     "base_uri": "https://localhost:8080/",
     "height": 677
    },
    "id": "lSqVTeKfdYhA",
    "outputId": "3336bbe7-9618-41b9-82e0-74610fec9a4c"
   },
   "outputs": [
    {
     "data": {
      "text/html": [
       "<div>\n",
       "<style scoped>\n",
       "    .dataframe tbody tr th:only-of-type {\n",
       "        vertical-align: middle;\n",
       "    }\n",
       "\n",
       "    .dataframe tbody tr th {\n",
       "        vertical-align: top;\n",
       "    }\n",
       "\n",
       "    .dataframe thead th {\n",
       "        text-align: right;\n",
       "    }\n",
       "</style>\n",
       "<table border=\"1\" class=\"dataframe\">\n",
       "  <thead>\n",
       "    <tr style=\"text-align: right;\">\n",
       "      <th></th>\n",
       "      <th>Question</th>\n",
       "      <th>Equation</th>\n",
       "    </tr>\n",
       "  </thead>\n",
       "  <tbody>\n",
       "    <tr>\n",
       "      <th>963</th>\n",
       "      <td>A painter needed to paint 12 rooms in a build...</td>\n",
       "      <td>X=(7.0*(12.0-5.0))</td>\n",
       "    </tr>\n",
       "    <tr>\n",
       "      <th>3897</th>\n",
       "      <td>Brenda had 253 raspberry. John gripped some ra...</td>\n",
       "      <td>X = 253 - 66</td>\n",
       "    </tr>\n",
       "    <tr>\n",
       "      <th>27626</th>\n",
       "      <td>Casey wants to share some Bread among 17 frien...</td>\n",
       "      <td>X = 39 * 17</td>\n",
       "    </tr>\n",
       "    <tr>\n",
       "      <th>32530</th>\n",
       "      <td>Liza had 34 Press. Thomas furnished him some m...</td>\n",
       "      <td>X = 64 - 34</td>\n",
       "    </tr>\n",
       "    <tr>\n",
       "      <th>16266</th>\n",
       "      <td>George wants to distribute 125 mangos among 25...</td>\n",
       "      <td>X = 125 / 25</td>\n",
       "    </tr>\n",
       "    <tr>\n",
       "      <th>21122</th>\n",
       "      <td>Richard has 148 Marbles. Gary gave him 42 more...</td>\n",
       "      <td>X = 42 + 148</td>\n",
       "    </tr>\n",
       "    <tr>\n",
       "      <th>17377</th>\n",
       "      <td>Mary wants to impart 547 limes among 24 friend...</td>\n",
       "      <td>X = 547 / 24</td>\n",
       "    </tr>\n",
       "    <tr>\n",
       "      <th>20997</th>\n",
       "      <td>Juana had some apricot. He hash each apricot i...</td>\n",
       "      <td>X = 149 / 9</td>\n",
       "    </tr>\n",
       "    <tr>\n",
       "      <th>2745</th>\n",
       "      <td>Timmy had 86 watermelon. Kandi took 40 from hi...</td>\n",
       "      <td>X = 86 - 40</td>\n",
       "    </tr>\n",
       "    <tr>\n",
       "      <th>2080</th>\n",
       "      <td>William had 99 pear. Martin took 67 from him. ...</td>\n",
       "      <td>X = 99 - 67</td>\n",
       "    </tr>\n",
       "    <tr>\n",
       "      <th>1004</th>\n",
       "      <td>A worksheet had 2 problems on it. If a teache...</td>\n",
       "      <td>X=(2.0*(14.0-7.0))</td>\n",
       "    </tr>\n",
       "    <tr>\n",
       "      <th>17624</th>\n",
       "      <td>Lin wants to divide 535 limes among 27 friends...</td>\n",
       "      <td>X = 535 / 27</td>\n",
       "    </tr>\n",
       "    <tr>\n",
       "      <th>16437</th>\n",
       "      <td>Lucille wants to share 170 mangos among 28 fri...</td>\n",
       "      <td>X = 170 / 28</td>\n",
       "    </tr>\n",
       "    <tr>\n",
       "      <th>999</th>\n",
       "      <td>James had 162 watermelon. Louise took 118 from...</td>\n",
       "      <td>X = 162 - 118</td>\n",
       "    </tr>\n",
       "    <tr>\n",
       "      <th>3242</th>\n",
       "      <td>Laura had 263 kiwi. Betty lay hold of some kiw...</td>\n",
       "      <td>X = 263 - 2</td>\n",
       "    </tr>\n",
       "    <tr>\n",
       "      <th>13396</th>\n",
       "      <td>Denise had 31 raspberry . He slice each raspbe...</td>\n",
       "      <td>X = 19 * 31</td>\n",
       "    </tr>\n",
       "    <tr>\n",
       "      <th>8767</th>\n",
       "      <td>Robert had some mango. Kristin took 59 from hi...</td>\n",
       "      <td>X = 82 + 59</td>\n",
       "    </tr>\n",
       "    <tr>\n",
       "      <th>33663</th>\n",
       "      <td>Omar had some lemon. Mary gave him 9 more. Now...</td>\n",
       "      <td>X = 46 - 9</td>\n",
       "    </tr>\n",
       "    <tr>\n",
       "      <th>31893</th>\n",
       "      <td>Frank had 30 Watch. Bruce gifted him some more...</td>\n",
       "      <td>X = 199 - 30</td>\n",
       "    </tr>\n",
       "    <tr>\n",
       "      <th>34895</th>\n",
       "      <td>Deloise had some lemon. Peter gave him 1 more....</td>\n",
       "      <td>X = 43 - 1</td>\n",
       "    </tr>\n",
       "  </tbody>\n",
       "</table>\n",
       "</div>"
      ],
      "text/plain": [
       "                                                Question            Equation\n",
       "963     A painter needed to paint 12 rooms in a build...  X=(7.0*(12.0-5.0))\n",
       "3897   Brenda had 253 raspberry. John gripped some ra...        X = 253 - 66\n",
       "27626  Casey wants to share some Bread among 17 frien...         X = 39 * 17\n",
       "32530  Liza had 34 Press. Thomas furnished him some m...         X = 64 - 34\n",
       "16266  George wants to distribute 125 mangos among 25...        X = 125 / 25\n",
       "21122  Richard has 148 Marbles. Gary gave him 42 more...        X = 42 + 148\n",
       "17377  Mary wants to impart 547 limes among 24 friend...        X = 547 / 24\n",
       "20997  Juana had some apricot. He hash each apricot i...         X = 149 / 9\n",
       "2745   Timmy had 86 watermelon. Kandi took 40 from hi...         X = 86 - 40\n",
       "2080   William had 99 pear. Martin took 67 from him. ...         X = 99 - 67\n",
       "1004    A worksheet had 2 problems on it. If a teache...  X=(2.0*(14.0-7.0))\n",
       "17624  Lin wants to divide 535 limes among 27 friends...        X = 535 / 27\n",
       "16437  Lucille wants to share 170 mangos among 28 fri...        X = 170 / 28\n",
       "999    James had 162 watermelon. Louise took 118 from...       X = 162 - 118\n",
       "3242   Laura had 263 kiwi. Betty lay hold of some kiw...         X = 263 - 2\n",
       "13396  Denise had 31 raspberry . He slice each raspbe...         X = 19 * 31\n",
       "8767   Robert had some mango. Kristin took 59 from hi...         X = 82 + 59\n",
       "33663  Omar had some lemon. Mary gave him 9 more. Now...          X = 46 - 9\n",
       "31893  Frank had 30 Watch. Bruce gifted him some more...        X = 199 - 30\n",
       "34895  Deloise had some lemon. Peter gave him 1 more....          X = 43 - 1"
      ]
     },
     "execution_count": 5,
     "metadata": {},
     "output_type": "execute_result"
    }
   ],
   "source": [
    "df.head(20)"
   ]
  },
  {
   "cell_type": "code",
   "execution_count": 6,
   "metadata": {
    "id": "H7nd5ARwdgff"
   },
   "outputs": [],
   "source": [
    "X = list(df['Question'].values)"
   ]
  },
  {
   "cell_type": "code",
   "execution_count": 7,
   "metadata": {
    "id": "2sHgXo6Wdpl3"
   },
   "outputs": [],
   "source": [
    "def spacify(s):\n",
    "    return ' '.join(list(s))"
   ]
  },
  {
   "cell_type": "code",
   "execution_count": 8,
   "metadata": {
    "id": "X9EhfFLcdtOX"
   },
   "outputs": [],
   "source": [
    "Y = list(df['Equation'].apply(lambda y: spacify(y)).values)"
   ]
  },
  {
   "cell_type": "code",
   "execution_count": 9,
   "metadata": {
    "colab": {
     "base_uri": "https://localhost:8080/"
    },
    "id": "dAMKAclvdwDv",
    "outputId": "f1a4eab8-6faf-4aa1-94ab-8096feea16a1"
   },
   "outputs": [
    {
     "name": "stdout",
     "output_type": "stream",
     "text": [
      "[' A painter needed to paint 12 rooms in a building. Each room takes 7 hours to paint. If he already painted 5 rooms, how much longer will he take to paint the rest? ', 'Brenda had 253 raspberry. John gripped some raspberry. Now Brenda has 66  raspberry. How many did John grippeds?', 'Casey wants to share some Bread among 17 friends.If each friend get 39 Bread, then how many Bread john would have?', 'Liza had 34 Press. Thomas furnished him some more. Now Liza has 64 Press. How many did Thomas furnish him?', 'George wants to distribute 125 mangos among 25 friends. How many would each friend acquire?', 'Richard has 148 Marbles. Gary gave him 42 more. How many Marbles does Richard have altogether?', 'Mary wants to impart 547 limes among 24 friends. How many would each friend obtain?', 'Juana had some apricot. He hash each apricot into 9 slices. If total 149 apricot slices Juana make, then how many apricot Juana had?', 'Timmy had 86 watermelon. Kandi took 40 from him. Now How many watermelon Timmy have decreased by?', 'William had 99 pear. Martin took 67 from him. Now How many pear William have left over?']\n"
     ]
    },
    {
     "data": {
      "text/plain": [
       "['X = ( 7 . 0 * ( 1 2 . 0 - 5 . 0 ) )',\n",
       " 'X   =   2 5 3   -   6 6',\n",
       " 'X   =   3 9   *   1 7',\n",
       " 'X   =   6 4   -   3 4',\n",
       " 'X   =   1 2 5   /   2 5',\n",
       " 'X   =   4 2   +   1 4 8',\n",
       " 'X   =   5 4 7   /   2 4',\n",
       " 'X   =   1 4 9   /   9',\n",
       " 'X   =   8 6   -   4 0',\n",
       " 'X   =   9 9   -   6 7']"
      ]
     },
     "execution_count": 9,
     "metadata": {},
     "output_type": "execute_result"
    }
   ],
   "source": [
    "print(X[:10])\n",
    "Y[:10]"
   ]
  },
  {
   "cell_type": "code",
   "execution_count": 10,
   "metadata": {
    "id": "4D-LIUR9d4UX"
   },
   "outputs": [],
   "source": [
    "def preprocess_X(s):\n",
    "    s = s.lower().strip()\n",
    "    s = re.sub(r\"([?.!,’])\", r\" \\1 \", s)\n",
    "    s = re.sub(r\"([0-9])\", r\" \\1 \", s)\n",
    "    s = re.sub(r'[\" \"]+', \" \", s)\n",
    "    s = s.rstrip().strip()\n",
    "    return s\n",
    "\n",
    "def preprocess_Y(e):\n",
    "    e = e.lower().strip()\n",
    "    return e"
   ]
  },
  {
   "cell_type": "code",
   "execution_count": 11,
   "metadata": {
    "id": "4MCOnB2Bd8D5"
   },
   "outputs": [],
   "source": [
    "X_pp = list(map(preprocess_X, X))\n",
    "Y_pp = list(map(preprocess_Y, Y))"
   ]
  },
  {
   "cell_type": "code",
   "execution_count": 12,
   "metadata": {
    "colab": {
     "base_uri": "https://localhost:8080/"
    },
    "id": "pdR2lYwveCiv",
    "outputId": "1bcb059c-30e1-4a00-c988-162e0a008795"
   },
   "outputs": [
    {
     "data": {
      "text/plain": [
       "['a painter needed to paint 1 2 rooms in a building . each room takes 7 hours to paint . if he already painted 5 rooms , how much longer will he take to paint the rest ?',\n",
       " 'brenda had 2 5 3 raspberry . john gripped some raspberry . now brenda has 6 6 raspberry . how many did john grippeds ?',\n",
       " 'casey wants to share some bread among 1 7 friends . if each friend get 3 9 bread , then how many bread john would have ?',\n",
       " 'liza had 3 4 press . thomas furnished him some more . now liza has 6 4 press . how many did thomas furnish him ?',\n",
       " 'george wants to distribute 1 2 5 mangos among 2 5 friends . how many would each friend acquire ?',\n",
       " 'richard has 1 4 8 marbles . gary gave him 4 2 more . how many marbles does richard have altogether ?',\n",
       " 'mary wants to impart 5 4 7 limes among 2 4 friends . how many would each friend obtain ?',\n",
       " 'juana had some apricot . he hash each apricot into 9 slices . if total 1 4 9 apricot slices juana make , then how many apricot juana had ?',\n",
       " 'timmy had 8 6 watermelon . kandi took 4 0 from him . now how many watermelon timmy have decreased by ?',\n",
       " 'william had 9 9 pear . martin took 6 7 from him . now how many pear william have left over ?']"
      ]
     },
     "execution_count": 12,
     "metadata": {},
     "output_type": "execute_result"
    }
   ],
   "source": [
    "X_pp[:10]"
   ]
  },
  {
   "cell_type": "code",
   "execution_count": 13,
   "metadata": {
    "colab": {
     "base_uri": "https://localhost:8080/"
    },
    "id": "nik9L7oMeGkP",
    "outputId": "d48a79a0-eca1-4e18-c454-9d0de10d50d6"
   },
   "outputs": [
    {
     "data": {
      "text/plain": [
       "['x = ( 7 . 0 * ( 1 2 . 0 - 5 . 0 ) )',\n",
       " 'x   =   2 5 3   -   6 6',\n",
       " 'x   =   3 9   *   1 7',\n",
       " 'x   =   6 4   -   3 4',\n",
       " 'x   =   1 2 5   /   2 5',\n",
       " 'x   =   4 2   +   1 4 8',\n",
       " 'x   =   5 4 7   /   2 4',\n",
       " 'x   =   1 4 9   /   9',\n",
       " 'x   =   8 6   -   4 0',\n",
       " 'x   =   9 9   -   6 7']"
      ]
     },
     "execution_count": 13,
     "metadata": {},
     "output_type": "execute_result"
    }
   ],
   "source": [
    "Y_pp[:10]"
   ]
  },
  {
   "cell_type": "code",
   "execution_count": 14,
   "metadata": {
    "id": "KwS3q88LeJWA"
   },
   "outputs": [],
   "source": [
    "def tokenize(lang):\n",
    "    lang_tokenizer = tf.keras.preprocessing.text.Tokenizer(filters='')\n",
    "    lang_tokenizer.fit_on_texts(lang)\n",
    "    tensor = lang_tokenizer.texts_to_sequences(lang)\n",
    "    return tensor, lang_tokenizer"
   ]
  },
  {
   "cell_type": "code",
   "execution_count": 15,
   "metadata": {
    "id": "AR2O_5YkeSvX"
   },
   "outputs": [],
   "source": [
    "X_tensor, X_lang_tokenizer = tokenize(X_pp)"
   ]
  },
  {
   "cell_type": "code",
   "execution_count": 16,
   "metadata": {
    "colab": {
     "base_uri": "https://localhost:8080/"
    },
    "id": "ckSEwsDbeYbm",
    "outputId": "ea798efb-3443-45d7-abd3-dc1d18a8a008"
   },
   "outputs": [
    {
     "data": {
      "text/plain": [
       "5887"
      ]
     },
     "execution_count": 16,
     "metadata": {},
     "output_type": "execute_result"
    }
   ],
   "source": [
    "len(X_lang_tokenizer.word_index)"
   ]
  },
  {
   "cell_type": "code",
   "execution_count": 17,
   "metadata": {
    "id": "8N8bu9cneb3Y"
   },
   "outputs": [],
   "source": [
    "Y_tensor, Y_lang_tokenizer = tokenize(Y_pp)"
   ]
  },
  {
   "cell_type": "code",
   "execution_count": 18,
   "metadata": {
    "colab": {
     "base_uri": "https://localhost:8080/"
    },
    "id": "miRXZXGCefWH",
    "outputId": "7be9cc74-1895-4d74-cc98-2121567b9674"
   },
   "outputs": [
    {
     "data": {
      "text/plain": [
       "45"
      ]
     },
     "execution_count": 18,
     "metadata": {},
     "output_type": "execute_result"
    }
   ],
   "source": [
    "len(Y_lang_tokenizer.word_index)"
   ]
  },
  {
   "cell_type": "code",
   "execution_count": 19,
   "metadata": {
    "id": "F35vHKF-elh4"
   },
   "outputs": [],
   "source": [
    "previous_length = len(Y_lang_tokenizer.word_index)"
   ]
  },
  {
   "cell_type": "code",
   "execution_count": 20,
   "metadata": {
    "id": "EDEIWqTke7iJ"
   },
   "outputs": [],
   "source": [
    "def append_head_tail(x, last_int):\n",
    "    l = []\n",
    "    l.append(last_int + 1)\n",
    "    l.extend(x)\n",
    "    l.append(last_int + 2)\n",
    "    return l"
   ]
  },
  {
   "cell_type": "code",
   "execution_count": 21,
   "metadata": {
    "id": "R-ryhUCgfPrv"
   },
   "outputs": [],
   "source": [
    "X_tensor_list = [append_head_tail(i, len(X_lang_tokenizer.word_index)) for i in X_tensor]\n",
    "Y_tensor_list = [append_head_tail(i, len(Y_lang_tokenizer.word_index)) for i in Y_tensor]"
   ]
  },
  {
   "cell_type": "code",
   "execution_count": 22,
   "metadata": {
    "id": "xGKZEl2sfSq3"
   },
   "outputs": [],
   "source": [
    "X_tensor = tf.keras.preprocessing.sequence.pad_sequences(X_tensor_list, padding='post')\n",
    "Y_tensor = tf.keras.preprocessing.sequence.pad_sequences(Y_tensor_list, padding='post')"
   ]
  },
  {
   "cell_type": "code",
   "execution_count": 23,
   "metadata": {
    "colab": {
     "base_uri": "https://localhost:8080/"
    },
    "id": "GVXPpyerfW23",
    "outputId": "9c12bbd7-2132-4acf-ecf5-c7141dd4b6a6"
   },
   "outputs": [
    {
     "data": {
      "text/plain": [
       "array([[5888,  104, 2454, ...,    0,    0,    0],\n",
       "       [5888,  280,    6, ...,    0,    0,    0],\n",
       "       [5888,  811,   43, ...,    0,    0,    0],\n",
       "       ...,\n",
       "       [5888,  380,   12, ...,    0,    0,    0],\n",
       "       [5888,  167,    6, ...,    0,    0,    0],\n",
       "       [5888,  404,    6, ...,    0,    0,    0]])"
      ]
     },
     "execution_count": 23,
     "metadata": {},
     "output_type": "execute_result"
    }
   ],
   "source": [
    "X_tensor"
   ]
  },
  {
   "cell_type": "code",
   "execution_count": 24,
   "metadata": {
    "colab": {
     "base_uri": "https://localhost:8080/"
    },
    "id": "f6tBhJsofap_",
    "outputId": "fd8d0829-c69d-4317-a8db-dcd75e10b5a7"
   },
   "outputs": [
    {
     "data": {
      "text/plain": [
       "array([[46,  2,  1, ...,  0,  0,  0],\n",
       "       [46,  2,  1, ...,  0,  0,  0],\n",
       "       [46,  2,  1, ...,  0,  0,  0],\n",
       "       ...,\n",
       "       [46,  2,  1, ...,  0,  0,  0],\n",
       "       [46,  2,  1, ...,  0,  0,  0],\n",
       "       [46,  2,  1, ...,  0,  0,  0]])"
      ]
     },
     "execution_count": 24,
     "metadata": {},
     "output_type": "execute_result"
    }
   ],
   "source": [
    "Y_tensor"
   ]
  },
  {
   "cell_type": "code",
   "execution_count": 25,
   "metadata": {
    "id": "X-JNYt33fds3"
   },
   "outputs": [],
   "source": [
    "keys = ['10', '11', '12', '13', '14', '15', '16', '17', '18', '19', '20', '21',\n",
    "        '22', '23', '24', '25', '26', '27', '28', '29', '30', '31', '32', '33',\n",
    "        '34', '35', '36', '37', '38', '39', '40', '41', '42', '43', '44', '45',\n",
    "        '46', '47', '48', '49', '50']\n",
    "\n",
    "for idx,key in enumerate(keys):\n",
    "    Y_lang_tokenizer.word_index[key] = len(Y_lang_tokenizer.word_index) + idx + 4"
   ]
  },
  {
   "cell_type": "code",
   "execution_count": 26,
   "metadata": {
    "colab": {
     "base_uri": "https://localhost:8080/"
    },
    "id": "vjY6pwupfex_",
    "outputId": "52d46a65-fa5b-4ec1-c14b-17771126eb49"
   },
   "outputs": [
    {
     "data": {
      "text/plain": [
       "86"
      ]
     },
     "execution_count": 26,
     "metadata": {},
     "output_type": "execute_result"
    }
   ],
   "source": [
    "len(Y_lang_tokenizer.word_index)"
   ]
  },
  {
   "cell_type": "code",
   "execution_count": 27,
   "metadata": {
    "id": "ZCfBM0ExfoKA"
   },
   "outputs": [],
   "source": [
    "X_tensor_train, X_tensor_test, Y_tensor_train, Y_tensor_test = train_test_split(X_tensor, Y_tensor, test_size=0.05, random_state=42)"
   ]
  },
  {
   "cell_type": "code",
   "execution_count": 28,
   "metadata": {
    "colab": {
     "base_uri": "https://localhost:8080/"
    },
    "id": "9TVfhuKOgNXf",
    "outputId": "bd5edc3f-4f00-4213-bde9-a02ef8e42b88"
   },
   "outputs": [
    {
     "name": "stdout",
     "output_type": "stream",
     "text": [
      "36236 1908 36236 1908\n"
     ]
    }
   ],
   "source": [
    "print(len(X_tensor_train), len(X_tensor_test), len(Y_tensor_train), len(Y_tensor_test))"
   ]
  },
  {
   "cell_type": "code",
   "execution_count": 29,
   "metadata": {
    "id": "fb_TJnQcgPnH"
   },
   "outputs": [],
   "source": [
    "TRAINING_SET_SIZE = len(X_tensor_train)\n",
    "BATCH_SIZE = 64\n",
    "steps_per_epoch = np.floor(TRAINING_SET_SIZE/BATCH_SIZE)\n",
    "\n",
    "data = tf.data.Dataset.from_tensor_slices((X_tensor_train, Y_tensor_train)).shuffle(TRAINING_SET_SIZE)\n",
    "data = data.batch(BATCH_SIZE, drop_remainder=True)\n",
    "\n",
    "num_layers = 4\n",
    "d_model = 128       # Embedding dimension\n",
    "dff = 512           # Dimensionality of inner-layer of FNN\n",
    "num_heads = 8       # Number of parallel attention layers (heads)\n",
    "dropout_rate = 0\n",
    "\n",
    "X_vocabulary_size = len(X_lang_tokenizer.word_index) + 3\n",
    "Y_vocabulary_size = len(Y_lang_tokenizer.word_index) + 3"
   ]
  },
  {
   "cell_type": "code",
   "execution_count": 30,
   "metadata": {
    "id": "BPII-_IbgRyH"
   },
   "outputs": [],
   "source": [
    "data = data.prefetch(tf.data.experimental.AUTOTUNE)"
   ]
  },
  {
   "cell_type": "code",
   "execution_count": 31,
   "metadata": {
    "colab": {
     "base_uri": "https://localhost:8080/"
    },
    "id": "_z5iylQ3gU6n",
    "outputId": "763dba27-edde-47d9-aa65-b85d01f2beef"
   },
   "outputs": [
    {
     "data": {
      "text/plain": [
       "<_PrefetchDataset element_spec=(TensorSpec(shape=(64, 124), dtype=tf.int32, name=None), TensorSpec(shape=(64, 66), dtype=tf.int32, name=None))>"
      ]
     },
     "execution_count": 31,
     "metadata": {},
     "output_type": "execute_result"
    }
   ],
   "source": [
    "data"
   ]
  },
  {
   "cell_type": "code",
   "execution_count": 32,
   "metadata": {
    "colab": {
     "base_uri": "https://localhost:8080/"
    },
    "id": "MZFJbXRegXQW",
    "outputId": "ce3eebf0-638d-498b-aa7a-e0ca1fc547de"
   },
   "outputs": [
    {
     "name": "stdout",
     "output_type": "stream",
     "text": [
      "tf.Tensor(\n",
      "[[5888  820    6 ...    0    0    0]\n",
      " [5888  291    6 ...    0    0    0]\n",
      " [5888   98    6 ...    0    0    0]\n",
      " ...\n",
      " [5888  485    6 ...    0    0    0]\n",
      " [5888  385    6 ...    0    0    0]\n",
      " [5888 3553   43 ...    0    0    0]], shape=(64, 124), dtype=int32) tf.Tensor(\n",
      "[[46  2  1 ...  0  0  0]\n",
      " [46  2  1 ...  0  0  0]\n",
      " [46  2  1 ...  0  0  0]\n",
      " ...\n",
      " [46  2  1 ...  0  0  0]\n",
      " [46  2  1 ...  0  0  0]\n",
      " [46  2  1 ...  0  0  0]], shape=(64, 66), dtype=int32)\n"
     ]
    }
   ],
   "source": [
    "X_batch_example, Y_batch_example = next(iter(data))\n",
    "\n",
    "print(X_batch_example, Y_batch_example)"
   ]
  },
  {
   "cell_type": "code",
   "execution_count": 33,
   "metadata": {
    "id": "SmxWw1omgare"
   },
   "outputs": [],
   "source": [
    "def get_angles(pos, i, d_model):\n",
    "    angle_rates = 1 / np.power(10000, (2 * (i//2)) / np.float32(d_model))\n",
    "    return pos * angle_rates"
   ]
  },
  {
   "cell_type": "code",
   "execution_count": 34,
   "metadata": {
    "id": "fqGTQv9Tgcee"
   },
   "outputs": [],
   "source": [
    "def positional_encoding(position, d_model):\n",
    "    angle_rads = get_angles(np.arange(position)[:, np.newaxis],\n",
    "                            np.arange(d_model)[np.newaxis, :],\n",
    "                            d_model)\n",
    "\n",
    "    # apply sin to even indices in the array; 2i\n",
    "    angle_rads[:, 0::2] = np.sin(angle_rads[:, 0::2])\n",
    "\n",
    "    # apply cos to odd indices in the array; 2i+1\n",
    "    angle_rads[:, 1::2] = np.cos(angle_rads[:, 1::2])\n",
    "\n",
    "    pos_encoding = angle_rads[np.newaxis, ...]\n",
    "\n",
    "    return tf.cast(pos_encoding, dtype=tf.float32)"
   ]
  },
  {
   "cell_type": "code",
   "execution_count": 35,
   "metadata": {
    "id": "YXWMON4ZgeW3"
   },
   "outputs": [],
   "source": [
    "def create_padding_mask(seq):\n",
    "    seq = tf.cast(tf.math.equal(seq, 0), tf.float32)\n",
    "\n",
    "    # add extra dimensions to add the padding\n",
    "    # to the attention logits.\n",
    "    return seq[:, tf.newaxis, tf.newaxis, :]  # (batch_size, 1, 1, seq_len)"
   ]
  },
  {
   "cell_type": "code",
   "execution_count": 36,
   "metadata": {
    "id": "kiJCK8VgggBe"
   },
   "outputs": [],
   "source": [
    "def create_look_ahead_mask(size):\n",
    "    mask = 1 - tf.linalg.band_part(tf.ones((size, size)), -1, 0)\n",
    "    return mask\n"
   ]
  },
  {
   "cell_type": "code",
   "execution_count": 37,
   "metadata": {
    "id": "YusUsARygi5G"
   },
   "outputs": [],
   "source": [
    "def scaled_dot_product_attention(q, k, v, mask):\n",
    "    matmul_qk = tf.matmul(q, k, transpose_b=True)  # (..., seq_len_q, seq_len_k)\n",
    "\n",
    "    # scale matmul_qk\n",
    "    dk = tf.cast(tf.shape(k)[-1], tf.float32)\n",
    "    scaled_attention_logits = matmul_qk / tf.math.sqrt(dk)\n",
    "\n",
    "    # add the mask to the scaled tensor.\n",
    "    if mask is not None:\n",
    "        scaled_attention_logits += (mask * -1e9)\n",
    "\n",
    "    # softmax is normalized on the last axis (seq_len_k) so that the scores\n",
    "    # add up to 1.\n",
    "    attention_weights = tf.nn.softmax(scaled_attention_logits, axis=-1)  # (..., seq_len_q, seq_len_k)\n",
    "\n",
    "    output = tf.matmul(attention_weights, v)  # (..., seq_len_q, depth_v)\n",
    "\n",
    "    return output, attention_weights"
   ]
  },
  {
   "cell_type": "code",
   "execution_count": 38,
   "metadata": {
    "id": "GfjQ26Ftglx-"
   },
   "outputs": [],
   "source": [
    "class MultiHeadAttention(tf.keras.layers.Layer):\n",
    "    def __init__(self, d_model, num_heads):\n",
    "        super(MultiHeadAttention, self).__init__()\n",
    "        self.num_heads = num_heads\n",
    "        self.d_model = d_model\n",
    "\n",
    "        assert d_model % self.num_heads == 0\n",
    "\n",
    "        self.depth = d_model // self.num_heads\n",
    "\n",
    "        self.wq = tf.keras.layers.Dense(d_model)\n",
    "        self.wk = tf.keras.layers.Dense(d_model)\n",
    "        self.wv = tf.keras.layers.Dense(d_model)\n",
    "\n",
    "        self.dense = tf.keras.layers.Dense(d_model)\n",
    "\n",
    "    def split_heads(self, x, batch_size):\n",
    "        \"\"\"Split the last dimension into (num_heads, depth).\n",
    "        Transpose the result such that the shape is (batch_size, num_heads, seq_len, depth)\n",
    "        \"\"\"\n",
    "        x = tf.reshape(x, (batch_size, -1, self.num_heads, self.depth))\n",
    "        return tf.transpose(x, perm=[0, 2, 1, 3])\n",
    "\n",
    "    def call(self, v, k, q, mask):\n",
    "        batch_size = tf.shape(q)[0]\n",
    "\n",
    "        q = self.wq(q)  # (batch_size, seq_len, d_model)\n",
    "        k = self.wk(k)  # (batch_size, seq_len, d_model)\n",
    "        v = self.wv(v)  # (batch_size, seq_len, d_model)\n",
    "\n",
    "        q = self.split_heads(q, batch_size)  # (batch_size, num_heads, seq_len_q, depth)\n",
    "        k = self.split_heads(k, batch_size)  # (batch_size, num_heads, seq_len_k, depth)\n",
    "        v = self.split_heads(v, batch_size)  # (batch_size, num_heads, seq_len_v, depth)\n",
    "\n",
    "        # scaled_attention.shape == (batch_size, num_heads, seq_len_q, depth)\n",
    "        # attention_weights.shape == (batch_size, num_heads, seq_len_q, seq_len_k)\n",
    "        scaled_attention, attention_weights = scaled_dot_product_attention(\n",
    "            q, k, v, mask)\n",
    "\n",
    "        scaled_attention = tf.transpose(scaled_attention, perm=[0, 2, 1, 3])  # (batch_size, seq_len_q, num_heads, depth)\n",
    "\n",
    "        concat_attention = tf.reshape(scaled_attention,\n",
    "                                    (batch_size, -1, self.d_model))  # (batch_size, seq_len_q, d_model)\n",
    "\n",
    "        output = self.dense(concat_attention)  # (batch_size, seq_len_q, d_model)\n",
    "\n",
    "        return output, attention_weights"
   ]
  },
  {
   "cell_type": "code",
   "execution_count": 39,
   "metadata": {
    "id": "Fu1ps9x4gpKw"
   },
   "outputs": [],
   "source": [
    "def point_wise_feed_forward_network(d_model, dff):\n",
    "    return tf.keras.Sequential([\n",
    "        tf.keras.layers.Dense(dff, activation='relu'),  # (batch_size, seq_len, dff)\n",
    "        tf.keras.layers.Dense(d_model)  # (batch_size, seq_len, d_model)\n",
    "    ])"
   ]
  },
  {
   "cell_type": "code",
   "execution_count": 40,
   "metadata": {
    "id": "Nk6VUuSXgrPu"
   },
   "outputs": [],
   "source": [
    "class EncoderLayer(tf.keras.layers.Layer):\n",
    "    def __init__(self, d_model, num_heads, dff, rate=0.1):\n",
    "        super(EncoderLayer, self).__init__()\n",
    "\n",
    "        self.mha = MultiHeadAttention(d_model, num_heads)\n",
    "        self.ffn = point_wise_feed_forward_network(d_model, dff)\n",
    "\n",
    "        # normalize data per feature instead of batch\n",
    "        self.layernorm1 = tf.keras.layers.LayerNormalization(epsilon=1e-6)\n",
    "        self.layernorm2 = tf.keras.layers.LayerNormalization(epsilon=1e-6)\n",
    "\n",
    "        self.dropout1 = tf.keras.layers.Dropout(rate)\n",
    "        self.dropout2 = tf.keras.layers.Dropout(rate)\n",
    "\n",
    "    def call(self, x, training, mask):\n",
    "        # Multi-head attention layer\n",
    "        attn_output, _ = self.mha(x, x, x, mask)\n",
    "        attn_output = self.dropout1(attn_output, training=training)\n",
    "        # add residual connection to avoid vanishing gradient problem\n",
    "        out1 = self.layernorm1(x + attn_output)\n",
    "\n",
    "        # Feedforward layer\n",
    "        ffn_output = self.ffn(out1)\n",
    "        ffn_output = self.dropout2(ffn_output, training=training)\n",
    "        # add residual connection to avoid vanishing gradient problem\n",
    "        out2 = self.layernorm2(out1 + ffn_output)\n",
    "        return out2"
   ]
  },
  {
   "cell_type": "code",
   "execution_count": 41,
   "metadata": {
    "id": "hFnEXZb0gtCH"
   },
   "outputs": [],
   "source": [
    "class Encoder(tf.keras.layers.Layer):\n",
    "    def __init__(self, num_layers, d_model, num_heads, dff, input_vocab_size,\n",
    "                maximum_position_encoding, rate=0.1):\n",
    "        super(Encoder, self).__init__()\n",
    "\n",
    "        self.d_model = d_model\n",
    "        self.num_layers = num_layers\n",
    "\n",
    "        self.embedding = tf.keras.layers.Embedding(input_vocab_size, d_model)\n",
    "        self.pos_encoding = positional_encoding(maximum_position_encoding,\n",
    "                                                self.d_model)\n",
    "\n",
    "        # Create encoder layers (count: num_layers)\n",
    "        self.enc_layers = [EncoderLayer(d_model, num_heads, dff, rate)\n",
    "                        for _ in range(num_layers)]\n",
    "\n",
    "        self.dropout = tf.keras.layers.Dropout(rate)\n",
    "\n",
    "    def call(self, x, training, mask):\n",
    "\n",
    "        seq_len = tf.shape(x)[1]\n",
    "\n",
    "        # adding embedding and position encoding.\n",
    "        x = self.embedding(x)\n",
    "        x *= tf.math.sqrt(tf.cast(self.d_model, tf.float32))\n",
    "        x += self.pos_encoding[:, :seq_len, :]\n",
    "\n",
    "        x = self.dropout(x, training=training)\n",
    "\n",
    "        for i in range(self.num_layers):\n",
    "            x = self.enc_layers[i](x, training, mask)\n",
    "\n",
    "        return x"
   ]
  },
  {
   "cell_type": "code",
   "execution_count": 42,
   "metadata": {
    "id": "2IETXZP4gvlN"
   },
   "outputs": [],
   "source": [
    "class DecoderLayer(tf.keras.layers.Layer):\n",
    "    def __init__(self, d_model, num_heads, dff, rate=0.1):\n",
    "        super(DecoderLayer, self).__init__()\n",
    "\n",
    "        self.mha1 = MultiHeadAttention(d_model, num_heads)\n",
    "        self.mha2 = MultiHeadAttention(d_model, num_heads)\n",
    "\n",
    "        self.ffn = point_wise_feed_forward_network(d_model, dff)\n",
    "\n",
    "        self.layernorm1 = tf.keras.layers.LayerNormalization(epsilon=1e-6)\n",
    "        self.layernorm2 = tf.keras.layers.LayerNormalization(epsilon=1e-6)\n",
    "        self.layernorm3 = tf.keras.layers.LayerNormalization(epsilon=1e-6)\n",
    "\n",
    "        self.dropout1 = tf.keras.layers.Dropout(rate)\n",
    "        self.dropout2 = tf.keras.layers.Dropout(rate)\n",
    "        self.dropout3 = tf.keras.layers.Dropout(rate)\n",
    "\n",
    "\n",
    "    def call(self, x, enc_output, training,\n",
    "            look_ahead_mask, padding_mask):\n",
    "\n",
    "        # Masked multihead attention layer (padding + look-ahead)\n",
    "        attn1, attn_weights_block1 = self.mha1(x, x, x, look_ahead_mask)\n",
    "        attn1 = self.dropout1(attn1, training=training)\n",
    "        # again add residual connection\n",
    "        out1 = self.layernorm1(attn1 + x)\n",
    "\n",
    "        # Masked multihead attention layer (only padding)\n",
    "        # with input from encoder as Key and Value, and input from previous layer as Query\n",
    "        attn2, attn_weights_block2 = self.mha2(\n",
    "            enc_output, enc_output, out1, padding_mask)\n",
    "        attn2 = self.dropout2(attn2, training=training)\n",
    "        # again add residual connection\n",
    "        out2 = self.layernorm2(attn2 + out1)\n",
    "\n",
    "        # Feedforward layer\n",
    "        ffn_output = self.ffn(out2)\n",
    "        ffn_output = self.dropout3(ffn_output, training=training)\n",
    "        # again add residual connection\n",
    "        out3 = self.layernorm3(ffn_output + out2)\n",
    "        return out3, attn_weights_block1, attn_weights_block2"
   ]
  },
  {
   "cell_type": "code",
   "execution_count": 43,
   "metadata": {
    "id": "Q6GT-Kmvgx7m"
   },
   "outputs": [],
   "source": [
    "class Decoder(tf.keras.layers.Layer):\n",
    "    def __init__(self, num_layers, d_model, num_heads, dff, target_vocab_size,\n",
    "                maximum_position_encoding, rate=0.1):\n",
    "        super(Decoder, self).__init__()\n",
    "\n",
    "        self.d_model = d_model\n",
    "        self.num_layers = num_layers\n",
    "\n",
    "        self.embedding = tf.keras.layers.Embedding(target_vocab_size, d_model)\n",
    "        self.pos_encoding = positional_encoding(maximum_position_encoding, d_model)\n",
    "\n",
    "        # Create decoder layers (count: num_layers)\n",
    "        self.dec_layers = [DecoderLayer(d_model, num_heads, dff, rate)\n",
    "                        for _ in range(num_layers)]\n",
    "        self.dropout = tf.keras.layers.Dropout(rate)\n",
    "\n",
    "    def call(self, x, enc_output, training,\n",
    "            look_ahead_mask, padding_mask):\n",
    "\n",
    "        seq_len = tf.shape(x)[1]\n",
    "        attention_weights = {}\n",
    "\n",
    "        x = self.embedding(x)  # (batch_size, target_seq_len, d_model)\n",
    "\n",
    "        x *= tf.math.sqrt(tf.cast(self.d_model, tf.float32))\n",
    "\n",
    "        x += self.pos_encoding[:,:seq_len,:]\n",
    "\n",
    "        x = self.dropout(x, training=training)\n",
    "\n",
    "        for i in range(self.num_layers):\n",
    "            x, block1, block2 = self.dec_layers[i](x, enc_output, training,\n",
    "                                                look_ahead_mask, padding_mask)\n",
    "\n",
    "        # store attenion weights, they can be used to visualize while translating\n",
    "        attention_weights['decoder_layer{}_block1'.format(i+1)] = block1\n",
    "        attention_weights['decoder_layer{}_block2'.format(i+1)] = block2\n",
    "\n",
    "        return x, attention_weights"
   ]
  },
  {
   "cell_type": "code",
   "execution_count": 44,
   "metadata": {
    "id": "h6VGzNEag0GN"
   },
   "outputs": [],
   "source": [
    "class Transformer(tf.keras.Model):\n",
    "    def __init__(self, num_layers, d_model, num_heads, dff, input_vocab_size,\n",
    "                target_vocab_size, pe_input, pe_target, rate=0.1):\n",
    "        super(Transformer, self).__init__()\n",
    "\n",
    "        self.encoder = Encoder(num_layers, d_model, num_heads, dff,\n",
    "                            input_vocab_size, pe_input, rate)\n",
    "\n",
    "        self.decoder = Decoder(num_layers, d_model, num_heads, dff,\n",
    "                            target_vocab_size, pe_target, rate)\n",
    "\n",
    "        self.final_layer = tf.keras.layers.Dense(target_vocab_size)\n",
    "\n",
    "    def call(self, inp, tar, training, enc_padding_mask,\n",
    "            look_ahead_mask, dec_padding_mask):\n",
    "\n",
    "        # Pass the input to the encoder\n",
    "        enc_output = self.encoder(inp, training, enc_padding_mask)\n",
    "\n",
    "        # Pass the encoder output to the decoder\n",
    "        dec_output, attention_weights = self.decoder(\n",
    "            tar, enc_output, training, look_ahead_mask, dec_padding_mask)\n",
    "\n",
    "        # Pass the decoder output to the last linear layer\n",
    "        final_output = self.final_layer(dec_output)\n",
    "\n",
    "        return final_output, attention_weights"
   ]
  },
  {
   "cell_type": "code",
   "execution_count": 45,
   "metadata": {
    "id": "kgN5npBOg1tG"
   },
   "outputs": [],
   "source": [
    "class CustomSchedule(tf.keras.optimizers.schedules.LearningRateSchedule):\n",
    "    def __init__(self, d_model, warmup_steps=4000):\n",
    "        super(CustomSchedule, self).__init__()\n",
    "        self.d_model = d_model\n",
    "        self.warmup_steps = warmup_steps\n",
    "\n",
    "    def __call__(self, step):\n",
    "        d_model = tf.cast(self.d_model, tf.float32)  # Ensure d_model is tf.float32\n",
    "        arg1 = tf.math.rsqrt(tf.cast(step, tf.float32))  # Cast step to tf.float32\n",
    "        arg2 = tf.cast(step, tf.float32) * (self.warmup_steps ** -1.5)\n",
    "\n",
    "        return tf.math.rsqrt(d_model) * tf.math.minimum(arg1, arg2)"
   ]
  },
  {
   "cell_type": "code",
   "execution_count": 46,
   "metadata": {
    "id": "ZLizgZcmg28F"
   },
   "outputs": [],
   "source": [
    "d_model = 512  # Set the value of d_model here\n",
    "learning_rate = CustomSchedule(d_model)\n",
    "\n",
    "# Adam optimizer with a custom learning rate\n",
    "optimizer = tf.keras.optimizers.Adam(learning_rate, beta_1=0.9, beta_2=0.98, epsilon=1e-9)"
   ]
  },
  {
   "cell_type": "code",
   "execution_count": 47,
   "metadata": {
    "id": "p2sneDhSmeMk"
   },
   "outputs": [],
   "source": [
    "loss_object = tf.keras.losses.SparseCategoricalCrossentropy(from_logits=True, reduction='none')"
   ]
  },
  {
   "cell_type": "code",
   "execution_count": 48,
   "metadata": {
    "id": "m6MMUJKZmgHU"
   },
   "outputs": [],
   "source": [
    "def loss_function(real, pred):\n",
    "    # Apply a mask to paddings (0)\n",
    "    mask = tf.math.logical_not(tf.math.equal(real, 0))\n",
    "    loss_ = loss_object(real, pred)\n",
    "\n",
    "    mask = tf.cast(mask, dtype=loss_.dtype)\n",
    "    loss_ *= mask\n",
    "\n",
    "    return tf.reduce_mean(loss_)\n",
    "\n",
    "def accuracy_function(real, pred):\n",
    "    accuracies = tf.equal(tf.cast(real, dtype=tf.int32), tf.cast(tf.argmax(pred, axis=2), dtype=tf.int32))\n",
    "\n",
    "    mask = tf.math.logical_not(tf.math.equal(tf.cast(real, dtype=tf.int32), 0))\n",
    "    accuracies = tf.math.logical_and(mask, accuracies)\n",
    "\n",
    "    accuracies = tf.cast(accuracies, dtype=tf.float32)\n",
    "    mask = tf.cast(mask, dtype=tf.float32)\n",
    "    return tf.reduce_sum(accuracies)/tf.reduce_sum(mask)"
   ]
  },
  {
   "cell_type": "code",
   "execution_count": 49,
   "metadata": {
    "id": "NjGWcVkGmhzk"
   },
   "outputs": [],
   "source": [
    "train_loss = tf.keras.metrics.Mean(name='train_loss')\n",
    "train_accuracy = tf.keras.metrics.SparseCategoricalAccuracy(name='train_accuracy')\n",
    "train_accuracy_mean = tf.keras.metrics.Mean(name='train_accuracy_mean')"
   ]
  },
  {
   "cell_type": "code",
   "execution_count": 50,
   "metadata": {
    "id": "BAylP2HRmkAk"
   },
   "outputs": [],
   "source": [
    "transformer = Transformer(num_layers, d_model, num_heads, dff,\n",
    "                          X_vocabulary_size, Y_vocabulary_size,\n",
    "                          pe_input=X_vocabulary_size,\n",
    "                          pe_target=Y_vocabulary_size,\n",
    "                          rate=dropout_rate)"
   ]
  },
  {
   "cell_type": "code",
   "execution_count": 51,
   "metadata": {
    "id": "YRZPK5D5moeT"
   },
   "outputs": [],
   "source": [
    "def create_masks(inp, tar):\n",
    "    # Encoder padding mask (Used in the 2nd attention block in the decoder too.)\n",
    "    enc_padding_mask = create_padding_mask(inp)\n",
    "    dec_padding_mask = create_padding_mask(inp)\n",
    "\n",
    "    # Used in the 1st attention block in the decoder.\n",
    "    # It is used to pad and mask future tokens in the input received by\n",
    "    # the decoder.\n",
    "    # Look ahead mask (for hiding the rest of the sequence in the 1st decoder attention layer)\n",
    "    look_ahead_mask = create_look_ahead_mask(tf.shape(tar)[1])\n",
    "    dec_target_padding_mask = create_padding_mask(tar)\n",
    "    look_ahead_mask = tf.maximum(dec_target_padding_mask, look_ahead_mask)\n",
    "\n",
    "    return enc_padding_mask, look_ahead_mask, dec_padding_mask"
   ]
  },
  {
   "cell_type": "code",
   "execution_count": 52,
   "metadata": {
    "id": "HVwsWaE6mywF"
   },
   "outputs": [],
   "source": [
    "drive_root = 'D:/MATH_AI/Project'"
   ]
  },
  {
   "cell_type": "code",
   "execution_count": 53,
   "metadata": {
    "colab": {
     "base_uri": "https://localhost:8080/"
    },
    "id": "PAuhJZqBm1EN",
    "outputId": "bd5a538c-9cf6-4c71-b97f-3243cd937631"
   },
   "outputs": [
    {
     "name": "stdout",
     "output_type": "stream",
     "text": [
      "Checkpoints directory is D:/MATH_AI/Project\\MLProject/checkpoints\\training_checkpoints/moops_transfomer\n",
      "Checkpoints folder already exists!\n"
     ]
    }
   ],
   "source": [
    "checkpoint_directory = os.path.join(drive_root, \"MLProject/checkpoints\")\n",
    "checkpoint_directory = os.path.join(checkpoint_directory, \"training_checkpoints/moops_transfomer\")\n",
    "\n",
    "print(\"Checkpoints directory is\", checkpoint_directory)\n",
    "if os.path.exists(checkpoint_directory):\n",
    "    print(\"Checkpoints folder already exists!\")\n",
    "else:\n",
    "    print(\"Creating a checkpoints directory...\")\n",
    "    os.makedirs(checkpoint_directory)\n",
    "\n",
    "\n",
    "checkpoint = tf.train.Checkpoint(transformer=transformer, optimizer=optimizer)\n",
    "\n",
    "ckpt_manager = tf.train.CheckpointManager(checkpoint, checkpoint_directory, max_to_keep=None)"
   ]
  },
  {
   "cell_type": "code",
   "execution_count": 54,
   "metadata": {
    "colab": {
     "base_uri": "https://localhost:8080/",
     "height": 35
    },
    "id": "qgLqAhE9m5Zr",
    "outputId": "b64381c2-ac5e-4be1-bd34-66ec6acf9a62"
   },
   "outputs": [
    {
     "data": {
      "text/plain": [
       "'D:/MATH_AI/Project\\\\MLProject/checkpoints\\\\training_checkpoints/moops_transfomer\\\\ckpt-5'"
      ]
     },
     "execution_count": 54,
     "metadata": {},
     "output_type": "execute_result"
    }
   ],
   "source": [
    "last_checkpoint = ckpt_manager.latest_checkpoint\n",
    "last_checkpoint"
   ]
  },
  {
   "cell_type": "code",
   "execution_count": 55,
   "metadata": {
    "colab": {
     "base_uri": "https://localhost:8080/"
    },
    "id": "-gkbUk7vm9zk",
    "outputId": "30458e9b-a38c-483a-e8bd-110cd7c1ac87"
   },
   "outputs": [
    {
     "name": "stdout",
     "output_type": "stream",
     "text": [
      "Last checkpoint has been restored!\n"
     ]
    }
   ],
   "source": [
    "if last_checkpoint:\n",
    "    current_epoch_num = int(last_checkpoint.split('/')[-1].split('-')[-1])\n",
    "    checkpoint.restore(last_checkpoint)\n",
    "    print('Last checkpoint has been restored!')\n",
    "else:\n",
    "    current_epoch_num = 0"
   ]
  },
  {
   "cell_type": "code",
   "execution_count": 56,
   "metadata": {
    "colab": {
     "base_uri": "https://localhost:8080/"
    },
    "id": "w6hAChj9m_f_",
    "outputId": "cbfc842f-d4c9-4a31-a0b7-030972fd72b2"
   },
   "outputs": [
    {
     "name": "stdout",
     "output_type": "stream",
     "text": [
      "5\n"
     ]
    }
   ],
   "source": [
    "print(current_epoch_num)"
   ]
  },
  {
   "cell_type": "markdown",
   "metadata": {
    "id": "z854OW8wnCqk"
   },
   "source": [
    "# ***TRAINING***"
   ]
  },
  {
   "cell_type": "code",
   "execution_count": 57,
   "metadata": {
    "id": "u-tdaZP9nJ80"
   },
   "outputs": [],
   "source": [
    "EPOCHS = 17"
   ]
  },
  {
   "cell_type": "code",
   "execution_count": 58,
   "metadata": {
    "id": "abGHDcHsnMCc"
   },
   "outputs": [],
   "source": [
    "def train_step(inp, tar):\n",
    "    tar_inp = tar[:, :-1]\n",
    "    tar_real = tar[:, 1:]\n",
    "\n",
    "    enc_padding_mask, look_ahead_mask, dec_padding_mask = create_masks(inp, tar_inp)\n",
    "\n",
    "    with tf.GradientTape() as tape:\n",
    "        predictions, _ = transformer(inp, tar_inp,\n",
    "                                    True,\n",
    "                                    enc_padding_mask,\n",
    "                                    look_ahead_mask,\n",
    "                                    dec_padding_mask)\n",
    "        loss = loss_function(tar_real, predictions)\n",
    "\n",
    "    gradients = tape.gradient(loss, transformer.trainable_variables)\n",
    "    optimizer.apply_gradients(zip(gradients, transformer.trainable_variables))\n",
    "\n",
    "    train_loss(loss)\n",
    "    train_accuracy(tar_real, predictions)\n",
    "    train_accuracy_mean(accuracy_function(tar_real, predictions))"
   ]
  },
  {
   "cell_type": "code",
   "execution_count": 59,
   "metadata": {
    "colab": {
     "base_uri": "https://localhost:8080/",
     "height": 685
    },
    "id": "C8yXs6KznOC0",
    "outputId": "a2e34948-936e-48bb-f9a5-7d0298c7d9ae"
   },
   "outputs": [
    {
     "data": {
      "text/plain": [
       "\"for epoch in range(current_epoch_num, EPOCHS):\\n    start = time.time()\\n\\n    train_loss.reset_states()\\n    train_accuracy.reset_states()\\n    train_accuracy_mean.reset_states()\\n\\n    # inp -> math problem, tar -> expression\\n    for (batch, (inp, tar)) in enumerate(data):\\n        train_step(inp, tar)\\n\\n        if batch % 50 == 0:\\n            print (f'Epoch {epoch + 1}, Batch {batch}, Loss {train_loss.result():.5f},             SC Accuracy {train_accuracy.result():.5f}, Mean Accuracy {train_accuracy_mean.result():.5f}')\\n\\n    ckpt_save_path = ckpt_manager.save()\\n    print (f'Saving checkpoint for epoch {epoch+1} at {ckpt_save_path}')\\n\\n    print (f'Epoch {epoch + 1}, Loss {train_loss.result():.5f},     SC Accuracy {train_accuracy.result():.5f}, Mean Accuracy {train_accuracy_mean.result():.5f}')\\n\\n    print (f'Training time for this epoch: {(time.time() - start):.5f} seconds\\n')\""
      ]
     },
     "execution_count": 59,
     "metadata": {},
     "output_type": "execute_result"
    }
   ],
   "source": [
    "'''for epoch in range(current_epoch_num, EPOCHS):\n",
    "    start = time.time()\n",
    "\n",
    "    train_loss.reset_states()\n",
    "    train_accuracy.reset_states()\n",
    "    train_accuracy_mean.reset_states()\n",
    "\n",
    "    # inp -> math problem, tar -> expression\n",
    "    for (batch, (inp, tar)) in enumerate(data):\n",
    "        train_step(inp, tar)\n",
    "\n",
    "        if batch % 50 == 0:\n",
    "            print (f'Epoch {epoch + 1}, Batch {batch}, Loss {train_loss.result():.5f},\\\n",
    "             SC Accuracy {train_accuracy.result():.5f}, Mean Accuracy {train_accuracy_mean.result():.5f}')\n",
    "\n",
    "    ckpt_save_path = ckpt_manager.save()\n",
    "    print (f'Saving checkpoint for epoch {epoch+1} at {ckpt_save_path}')\n",
    "\n",
    "    print (f'Epoch {epoch + 1}, Loss {train_loss.result():.5f},\\\n",
    "     SC Accuracy {train_accuracy.result():.5f}, Mean Accuracy {train_accuracy_mean.result():.5f}')\n",
    "\n",
    "    print (f'Training time for this epoch: {(time.time() - start):.5f} seconds\\n')'''"
   ]
  },
  {
   "cell_type": "code",
   "execution_count": 60,
   "metadata": {
    "id": "Ax7SkjtZnYgE"
   },
   "outputs": [],
   "source": [
    "MAX_LENGTH = 40"
   ]
  },
  {
   "cell_type": "code",
   "execution_count": 61,
   "metadata": {
    "id": "DTC07HiacmRc"
   },
   "outputs": [],
   "source": [
    "def evaluate(input_problem):\n",
    "    start_token = [len(X_lang_tokenizer.word_index)+1]\n",
    "    end_token = [len(X_lang_tokenizer.word_index)+2]\n",
    "\n",
    "    # input_problem is the word problem, hence adding the start and end token\n",
    "    input_problem = start_token + [X_lang_tokenizer.word_index[i] for i in preprocess_X(input_problem).split(' ')] + end_token\n",
    "    encoder_input = tf.expand_dims(input_problem, 0)\n",
    "\n",
    "    # start with expression's start token\n",
    "    decoder_input = [previous_length+1]\n",
    "    output = tf.expand_dims(decoder_input, 0)\n",
    "\n",
    "    for i in range(MAX_LENGTH):\n",
    "        enc_padding_mask, look_ahead_mask, dec_padding_mask = create_masks(encoder_input, output)\n",
    "\n",
    "        predictions, attention_weights = transformer(encoder_input,\n",
    "                                                    output,\n",
    "                                                    False,\n",
    "                                                    enc_padding_mask,\n",
    "                                                    look_ahead_mask,\n",
    "                                                    dec_padding_mask)\n",
    "\n",
    "        # select the last word from the seq_len dimension\n",
    "        predictions = predictions[: ,-1:, :]\n",
    "        predicted_id = tf.cast(tf.argmax(predictions, axis=-1), dtype=tf.int32)\n",
    "\n",
    "        # return the result if the predicted_id is equal to the end token\n",
    "        if predicted_id == previous_length + 2:\n",
    "            return tf.squeeze(output, axis=0), attention_weights\n",
    "\n",
    "        # concatenate the predicted_id to the output which is given to the decoder\n",
    "        # as its input.\n",
    "        output = tf.concat([output, predicted_id], axis=-1)\n",
    "    return tf.squeeze(output, axis=0), attention_weights"
   ]
  },
  {
   "cell_type": "code",
   "execution_count": 62,
   "metadata": {
    "id": "4FV91uopdFBz"
   },
   "outputs": [],
   "source": [
    "def plot_attention_weights(attention, problem, result, layer):\n",
    "    fig = plt.figure(figsize=(8, 16))\n",
    "\n",
    "    sentence = preprocess_X(problem)\n",
    "\n",
    "    attention = tf.squeeze(attention[layer], axis=0)\n",
    "\n",
    "    for head in range(attention.shape[0]):\n",
    "        ax = fig.add_subplot(4, 2, head+1)\n",
    "\n",
    "        # plot the attention weights\n",
    "        ax.matshow(attention[head][:-1, :], cmap='viridis')\n",
    "\n",
    "        fontdict = {'fontsize': 11}\n",
    "\n",
    "        ax.set_xticks(range(len(sentence.split(' '))+2))\n",
    "        ax.set_yticks(range(len([Y_lang_tokenizer.index_word[i] for i in list(result.numpy())\n",
    "                            if i < len(Y_lang_tokenizer.word_index) and i not in [0,previous_length+1,previous_length+2]])+3))\n",
    "\n",
    "\n",
    "        ax.set_ylim(len([Y_lang_tokenizer.index_word[i] for i in list(result.numpy())\n",
    "                            if i < len(Y_lang_tokenizer.word_index) and i not in [0,previous_length+1,previous_length+2]]), -0.5)\n",
    "\n",
    "        ax.set_xticklabels(\n",
    "            ['<start>']+sentence.split(' ')+['<end>'],\n",
    "            fontdict=fontdict, rotation=90)\n",
    "\n",
    "        ax.set_yticklabels([Y_lang_tokenizer.index_word[i] for i in list(result.numpy())\n",
    "                            if i < len(Y_lang_tokenizer.word_index) and i not in [0,previous_length+1,previous_length+2]],\n",
    "                        fontdict=fontdict)\n",
    "\n",
    "        ax.set_xlabel(f'Head {head+1}')\n",
    "\n",
    "    plt.tight_layout()\n",
    "    plt.show()"
   ]
  },
  {
   "cell_type": "code",
   "execution_count": 63,
   "metadata": {
    "id": "luZ4sOTkdHg_"
   },
   "outputs": [],
   "source": [
    "def solve(problem, plot='', plot_Attention_Weights=False):\n",
    "    prediction, attention_weights = evaluate(problem)\n",
    "    predicted_expression = [Y_lang_tokenizer.index_word[i] \\\n",
    "                          for i in list(prediction.numpy()) \\\n",
    "                          if (i < len(Y_lang_tokenizer.word_index) and i not in [0, 46, 47])]\n",
    "    input_text = problem\n",
    "    predicted_translation = ' '.join(predicted_expression)\n",
    "\n",
    "    print(f'Input: {input_text}')\n",
    "    print(f'Predicted translation: {predicted_translation}')\n",
    "\n",
    "\n",
    "\n",
    "    if plot_Attention_Weights:\n",
    "        plot_attention_weights(attention_weights, problem, prediction, plot)\n",
    "\n",
    "    return"
   ]
  },
  {
   "cell_type": "code",
   "execution_count": 64,
   "metadata": {
    "id": "6DuZEWqudJ48"
   },
   "outputs": [],
   "source": [
    "def evaluate_testset(input_problem):\n",
    "    start_token = [len(X_lang_tokenizer.word_index)+1]\n",
    "    end_token = [len(X_lang_tokenizer.word_index)+2]\n",
    "\n",
    "    # input_problem is the word problem, hence adding the start and end token\n",
    "    input_problem = start_token + list(input_problem.numpy()[0]) + end_token\n",
    "    encoder_input = tf.expand_dims(input_problem, 0)\n",
    "\n",
    "    # start with expression's start token\n",
    "    decoder_input = [previous_length+1]\n",
    "    output = tf.expand_dims(decoder_input, 0)\n",
    "\n",
    "    for i in range(MAX_LENGTH):\n",
    "        enc_padding_mask, look_ahead_mask, dec_padding_mask = create_masks(encoder_input, output)\n",
    "\n",
    "        predictions, attention_weights = transformer(encoder_input,\n",
    "                                                    output,\n",
    "                                                    False,\n",
    "                                                    enc_padding_mask,\n",
    "                                                    look_ahead_mask,\n",
    "                                                    dec_padding_mask)\n",
    "\n",
    "        # select the last word from the seq_len dimension\n",
    "        predictions = predictions[: ,-1:, :]\n",
    "        predicted_id = tf.cast(tf.argmax(predictions, axis=-1), dtype=tf.int32)\n",
    "\n",
    "        # return the result if the predicted_id is equal to the end token\n",
    "        if predicted_id == previous_length + 2:\n",
    "            return tf.squeeze(output, axis=0), attention_weights\n",
    "\n",
    "        # concatenate the predicted_id to the output which is given to the decoder\n",
    "        # as its input.\n",
    "        output = tf.concat([output, predicted_id], axis=-1)\n",
    "    return tf.squeeze(output, axis=0), attention_weights"
   ]
  },
  {
   "cell_type": "code",
   "execution_count": 65,
   "metadata": {
    "id": "SJhxf8XndL-m"
   },
   "outputs": [],
   "source": [
    "data_test = tf.data.Dataset.from_tensor_slices((X_tensor_test, Y_tensor_test)).shuffle(len(X_tensor_test))\n",
    "data_test = data_test.batch(1, drop_remainder=True)"
   ]
  },
  {
   "cell_type": "code",
   "execution_count": 66,
   "metadata": {
    "id": "QLJBToQIdPtJ"
   },
   "outputs": [
    {
     "data": {
      "text/plain": [
       "\"Y_true = []\\nY_pred = []\\ncorrectCount = 0\\n\\nidx = 0\\nfor(X_test_batch, Y_test_batch) in iter(data_test):\\n    idx += 1\\n    if idx % 10 == 0:\\n        print(f'Samples tested: {idx}, Correctly solved: {correctCount}')\\n    ground_truth_expression = ''\\n    for i in Y_test_batch.numpy()[0]:\\n        if i not in [0, previous_length + 1, previous_length + 2]:\\n            ground_truth_expression += (Y_lang_tokenizer.index_word[i] + ' ')\\n\\n    Y_true.append([ground_truth_expression.split(' ')[:-1]])\\n\\n    prediction, attention_weights = evaluate_testset(X_test_batch)\\n    predicted_expression = [Y_lang_tokenizer.index_word[i]                             for i in list(prediction.numpy())                             if (i < len(Y_lang_tokenizer.word_index) and i not in [0, previous_length + 1, previous_length + 2])]\\n    Y_pred.append(predicted_expression)\\n    if ground_truth_expression.split(' ')[:-1] == predicted_expression:\\n        correctCount += 1\""
      ]
     },
     "execution_count": 66,
     "metadata": {},
     "output_type": "execute_result"
    }
   ],
   "source": [
    "'''Y_true = []\n",
    "Y_pred = []\n",
    "correctCount = 0\n",
    "\n",
    "idx = 0\n",
    "for(X_test_batch, Y_test_batch) in iter(data_test):\n",
    "    idx += 1\n",
    "    if idx % 10 == 0:\n",
    "        print(f'Samples tested: {idx}, Correctly solved: {correctCount}')\n",
    "    ground_truth_expression = ''\n",
    "    for i in Y_test_batch.numpy()[0]:\n",
    "        if i not in [0, previous_length + 1, previous_length + 2]:\n",
    "            ground_truth_expression += (Y_lang_tokenizer.index_word[i] + ' ')\n",
    "\n",
    "    Y_true.append([ground_truth_expression.split(' ')[:-1]])\n",
    "\n",
    "    prediction, attention_weights = evaluate_testset(X_test_batch)\n",
    "    predicted_expression = [Y_lang_tokenizer.index_word[i] \\\n",
    "                            for i in list(prediction.numpy()) \\\n",
    "                            if (i < len(Y_lang_tokenizer.word_index) and i not in [0, previous_length + 1, previous_length + 2])]\n",
    "    Y_pred.append(predicted_expression)\n",
    "    if ground_truth_expression.split(' ')[:-1] == predicted_expression:\n",
    "        correctCount += 1'''"
   ]
  },
  {
   "cell_type": "code",
   "execution_count": 67,
   "metadata": {
    "id": "3Y2BZcMKrPAc"
   },
   "outputs": [
    {
     "data": {
      "text/plain": [
       "'print(len(Y_true), len(Y_pred))'"
      ]
     },
     "execution_count": 67,
     "metadata": {},
     "output_type": "execute_result"
    }
   ],
   "source": [
    "'''print(len(Y_true), len(Y_pred))'''"
   ]
  },
  {
   "cell_type": "markdown",
   "metadata": {
    "id": "_cCE4--rrV-K"
   },
   "source": [
    "***RESULTS***"
   ]
  },
  {
   "cell_type": "code",
   "execution_count": 68,
   "metadata": {
    "id": "x_oqPGlCrTfX"
   },
   "outputs": [
    {
     "data": {
      "text/plain": [
       "\"print('Corpus BLEU score of the model: ', corpus_bleu(Y_true, Y_pred))\""
      ]
     },
     "execution_count": 68,
     "metadata": {},
     "output_type": "execute_result"
    }
   ],
   "source": [
    "'''print('Corpus BLEU score of the model: ', corpus_bleu(Y_true, Y_pred))'''"
   ]
  },
  {
   "cell_type": "code",
   "execution_count": 69,
   "metadata": {
    "id": "fZPSpIBDrd4n"
   },
   "outputs": [
    {
     "data": {
      "text/plain": [
       "\"print(f'Accuracy of the model: {(correctCount/len(X_tensor_test))*100}%')\""
      ]
     },
     "execution_count": 69,
     "metadata": {},
     "output_type": "execute_result"
    }
   ],
   "source": [
    "'''print(f'Accuracy of the model: {(correctCount/len(X_tensor_test))*100}%')'''"
   ]
  },
  {
   "cell_type": "code",
   "execution_count": 70,
   "metadata": {
    "id": "dVFbw5qdrgpH"
   },
   "outputs": [],
   "source": [
    "sample_problem = ' '.join([X_lang_tokenizer.index_word[i] \\\n",
    "                           for i in X_tensor_test[70] \\\n",
    "                           if i not in [0, len(X_lang_tokenizer.word_index)+1, len(X_lang_tokenizer.word_index)+2]])"
   ]
  },
  {
   "cell_type": "code",
   "execution_count": 71,
   "metadata": {
    "id": "ZE80Dsy8rjU4"
   },
   "outputs": [
    {
     "data": {
      "text/plain": [
       "'john wants to share some plum among 3 0 friends . if each friend get 3 3 plum , then how many plum john would have ?'"
      ]
     },
     "execution_count": 71,
     "metadata": {},
     "output_type": "execute_result"
    }
   ],
   "source": [
    "sample_problem"
   ]
  },
  {
   "cell_type": "code",
   "execution_count": 72,
   "metadata": {
    "id": "JyDLXQY6tXPK"
   },
   "outputs": [
    {
     "data": {
      "text/plain": [
       "'john wants to share some plum among 3 0 friends . if each friend get 3 3 plum , then how many plum john would have ?'"
      ]
     },
     "execution_count": 72,
     "metadata": {},
     "output_type": "execute_result"
    }
   ],
   "source": [
    "sample_problem"
   ]
  },
  {
   "cell_type": "code",
   "execution_count": 73,
   "metadata": {
    "id": "peNAwqsqrlrr"
   },
   "outputs": [
    {
     "name": "stdout",
     "output_type": "stream",
     "text": [
      "Input: john wants to share some plum among 3 0 friends . if each friend get 3 3 plum , then how many plum john would have ?\n",
      "Predicted translation: x = 3 3 * 3 0\n"
     ]
    }
   ],
   "source": [
    "solve(sample_problem, plot='decoder_layer4_block2', plot_Attention_Weights=False)"
   ]
  },
  {
   "cell_type": "code",
   "execution_count": 74,
   "metadata": {
    "id": "IwykgPINrqhr"
   },
   "outputs": [
    {
     "name": "stdout",
     "output_type": "stream",
     "text": [
      "Input: A painter needed to paint 12 rooms in a building. Each room takes 7 hours to paint. If he already painted 5 rooms, how much longer will he take to paint the rest?\n",
      "Predicted translation: x = 7 . * ( 1 2 . 0 - 5 . 0 ) ) ) ) ) ) ) ) ) ) ) ) ) ) ) ) ) ) ) ) ) ) ) ) ) )\n"
     ]
    }
   ],
   "source": [
    "solve('A painter needed to paint 12 rooms in a building. Each room takes 7 hours to paint.\\\n",
    " If he already painted 5 rooms, how much longer will he take to paint the rest?'\\\n",
    " , plot='', plot_Attention_Weights=False)"
   ]
  },
  {
   "cell_type": "code",
   "execution_count": 75,
   "metadata": {
    "id": "XLBkMr6RyroP"
   },
   "outputs": [
    {
     "name": "stdout",
     "output_type": "stream",
     "text": [
      "Input: Rachel bought two coloring books. One had 23 pictures and the other had 32. After one week she had colored 19 of the pictures. How many pictures does she still have to color?\n",
      "Predicted translation: x = ( 3 3 3 . 0 - 1 3 . 0 ) ) ) ) ) )\n"
     ]
    }
   ],
   "source": [
    "solve('Rachel bought two coloring books. One had 23 pictures and the other had 32. After one week she had colored 19 of the pictures. How many pictures does she still have to color?', plot='', plot_Attention_Weights=False)"
   ]
  },
  {
   "cell_type": "code",
   "execution_count": 76,
   "metadata": {
    "colab": {
     "base_uri": "https://localhost:8080/"
    },
    "id": "lWbJzjutwW8m",
    "outputId": "32428403-be3e-47dc-fb3d-1c2b074ae5e1"
   },
   "outputs": [
    {
     "data": {
      "text/plain": [
       "'!pip install PySide6'"
      ]
     },
     "execution_count": 76,
     "metadata": {},
     "output_type": "execute_result"
    }
   ],
   "source": [
    "'''!pip install PySide6'''\n"
   ]
  },
  {
   "cell_type": "code",
   "execution_count": 88,
   "metadata": {},
   "outputs": [
    {
     "ename": "SystemExit",
     "evalue": "0",
     "output_type": "error",
     "traceback": [
      "An exception has occurred, use %tb to see the full traceback.\n",
      "\u001b[1;31mSystemExit\u001b[0m\u001b[1;31m:\u001b[0m 0\n"
     ]
    }
   ],
   "source": [
    "#MAIN UI\n",
    "import sys\n",
    "from PyQt5.QtWidgets import QApplication, QWidget, QVBoxLayout, QPushButton, QTextEdit, QLabel\n",
    "from PyQt5.QtCore import Qt\n",
    "from PyQt5.QtGui import QFont\n",
    "import re\n",
    "\n",
    "class MathAIApp(QWidget):\n",
    "    def __init__(self):\n",
    "        super().__init__()\n",
    "        self.initUI()\n",
    "\n",
    "\n",
    "    def initUI(self):\n",
    "        self.setWindowTitle('MATH AI: Word Problems Solved')\n",
    "        self.setGeometry(100, 100, 800, 600)\n",
    "\n",
    "        # Apply dark background color to the entire application\n",
    "        self.setStyleSheet(\"background-color: #333333; color: white;\")\n",
    "\n",
    "        # Welcome Screen\n",
    "        self.welcome_label = QLabel(\"Welcome To MATH AI: Word Problems Solved\")\n",
    "        self.welcome_label.setFont(QFont(\"Arial\", 16, QFont.Bold))\n",
    "        self.welcome_next_button = QPushButton(\"Next\")\n",
    "        self.welcome_next_button.setFont(QFont(\"Arial\", 12))\n",
    "        self.welcome_next_button.clicked.connect(self.showMainScreen)\n",
    "\n",
    "        # Apply dark style to the Next button\n",
    "        self.style_button(self.welcome_next_button)\n",
    "\n",
    "        welcome_layout = QVBoxLayout()\n",
    "        welcome_layout.addStretch(1)\n",
    "        welcome_layout.addWidget(self.welcome_label, alignment=Qt.AlignmentFlag.AlignCenter)\n",
    "        welcome_layout.addWidget(self.welcome_next_button, alignment=Qt.AlignmentFlag.AlignCenter)\n",
    "        welcome_layout.addStretch(1)\n",
    "\n",
    "        self.welcome_screen = QWidget()\n",
    "        self.welcome_screen.setLayout(welcome_layout)\n",
    "\n",
    "        # Main Screen\n",
    "        self.input_label = QLabel(\"Input Word Problem:\")\n",
    "        self.input_text = QTextEdit()\n",
    "        self.generated_label = QLabel(\"Generated Equation:\")\n",
    "        self.generated_equation = QTextEdit()\n",
    "        self.generated_equation.setReadOnly(True)\n",
    "        self.solve_label = QLabel(\"Solved Equation:\")\n",
    "        self.solved_equation = QTextEdit()\n",
    "        self.solved_equation.setReadOnly(True)\n",
    "\n",
    "        # Style the input and output boxes\n",
    "        self.style_text_box(self.input_text)\n",
    "        self.style_text_box(self.generated_equation)\n",
    "        self.style_text_box(self.solved_equation)\n",
    "\n",
    "        self.generate_button = QPushButton(\"Generate Equation\")\n",
    "        self.generate_button.setFont(QFont(\"Arial\", 12))\n",
    "        self.generate_button.clicked.connect(self.generateEquation)\n",
    "\n",
    "        # Apply dark style to the Generate button\n",
    "        self.style_button(self.generate_button)\n",
    "\n",
    "        self.solve_button = QPushButton(\"Solve Equation\")\n",
    "        self.solve_button.setFont(QFont(\"Arial\", 12))\n",
    "        self.solve_button.clicked.connect(self.solveEquation)  # Connect the button to the solveEquation method\n",
    "\n",
    "        # Apply dark style to the Solve button\n",
    "        self.style_button(self.solve_button)\n",
    "\n",
    "        main_layout = QVBoxLayout()\n",
    "        input_layout = QVBoxLayout()\n",
    "        input_layout.addWidget(self.input_label)\n",
    "        input_layout.addWidget(self.input_text)\n",
    "        generated_layout = QVBoxLayout()\n",
    "        generated_layout.addWidget(self.generated_label)\n",
    "        generated_layout.addWidget(self.generated_equation)\n",
    "        solve_layout = QVBoxLayout()\n",
    "        solve_layout.addWidget(self.solve_label)\n",
    "        solve_layout.addWidget(self.solved_equation)\n",
    "\n",
    "        main_layout.addLayout(input_layout)\n",
    "        main_layout.addWidget(self.generate_button, alignment=Qt.AlignmentFlag.AlignCenter)\n",
    "        main_layout.addLayout(generated_layout)\n",
    "        main_layout.addWidget(self.solve_button, alignment=Qt.AlignmentFlag.AlignCenter)\n",
    "        main_layout.addLayout(solve_layout)\n",
    "\n",
    "        # Apply dark style to the main layout\n",
    "        main_layout.setContentsMargins(20, 20, 20, 20)\n",
    "\n",
    "        self.main_screen = QWidget()\n",
    "        self.main_screen.setLayout(main_layout)\n",
    "        self.main_screen.hide()\n",
    "\n",
    "        # Stack both screens\n",
    "        self.stack = QVBoxLayout()\n",
    "        self.stack.addWidget(self.welcome_screen)\n",
    "        self.stack.addWidget(self.main_screen)\n",
    "\n",
    "        self.setLayout(self.stack)\n",
    "\n",
    "    def showMainScreen(self):\n",
    "        self.welcome_screen.hide()\n",
    "        self.main_screen.show()\n",
    "\n",
    "    def generateEquation(self):\n",
    "        # Get the user input problem\n",
    "        problem = self.input_text.toPlainText()\n",
    "\n",
    "        # Call the solve function and capture the output\n",
    "        predicted_translation = self.solve(problem, plot='decoder_layer4_block2', plot_Attention_Weights=False)\n",
    "\n",
    "        # Display the predicted translation in the \"Generated Equation\" text box\n",
    "        self.generated_equation.setPlainText(predicted_translation)\n",
    "\n",
    "    def solveEquation(self):\n",
    "        # Get the predicted translation from the \"Generated Equation\" text box\n",
    "        predicted_translation = self.generated_equation.toPlainText()\n",
    "\n",
    "        # Split the equation by '=' to get the variable and the expression\n",
    "        parts = predicted_translation.split('=')\n",
    "        if len(parts) == 2:\n",
    "            variable, expression = parts[0].strip(), parts[1].strip()\n",
    "\n",
    "            # Ensure the expression follows BODMAS rules by evaluating it using custom code\n",
    "            result = self.evaluate_expression(expression)\n",
    "\n",
    "            # Display the result in the \"Solved Equation\" text box\n",
    "            self.solved_equation.setPlainText(f\"{variable} = {result}\")\n",
    "        else:\n",
    "            self.solved_equation.setPlainText(\"Invalid Equation\")\n",
    "\n",
    "    def evaluate_expression(self, expression):\n",
    "        try:\n",
    "            # Remove spaces and evaluate the expression\n",
    "            expression = expression.replace(\" \", \"\")\n",
    "            # Replace 'x' with 'X' for better compatibility\n",
    "            expression = expression.replace('x', 'X')\n",
    "            # Evaluate the expression\n",
    "            result = eval(expression)\n",
    "            return result\n",
    "        except Exception as e:\n",
    "            return \"Invalid Expression\"\n",
    "\n",
    "    def solve(self, problem, plot, plot_Attention_Weights):\n",
    "        # Your solve logic\n",
    "        prediction, attention_weights = evaluate(problem)\n",
    "        predicted_expression = [Y_lang_tokenizer.index_word[i] \\\n",
    "                              for i in list(prediction.numpy()) \\\n",
    "                              if (i < len(Y_lang_tokenizer.word_index) and i not in [0, 46, 47])]\n",
    "        input_text = problem\n",
    "        predicted_translation = ' '.join(predicted_expression)\n",
    "\n",
    "        # Update the UI with the predicted translation\n",
    "        self.generated_equation.setPlainText(predicted_translation)\n",
    "\n",
    "        # If needed, add logic for attention weight plotting here\n",
    "        # plot_attention_weights(attention_weights, problem, prediction, plot)\n",
    "\n",
    "        return predicted_translation\n",
    "\n",
    "    def style_button(self, button):\n",
    "        # Apply dark style to the buttons\n",
    "        button.setStyleSheet(\"QPushButton { background-color: #007BFF; color: white; padding: 10px 20px; border: none; border-radius: 5px; }\"\n",
    "                             \"QPushButton:hover { background-color: #0056b3; }\")\n",
    "\n",
    "    def style_text_box(self, text_box):\n",
    "        # Apply dark style to the text boxes\n",
    "        text_box.setStyleSheet(\"QTextEdit { background-color: #444444; color: white; border: 1px solid #666666; border-radius: 5px; }\")\n",
    "\n",
    "def main():\n",
    "    app = QApplication(sys.argv)\n",
    "    math_ai = MathAIApp()\n",
    "    math_ai.show()\n",
    "    sys.exit(app.exec_())\n",
    "\n",
    "if __name__ == '__main__':\n",
    "    main()\n"
   ]
  },
  {
   "cell_type": "code",
   "execution_count": 77,
   "metadata": {
    "id": "CQig6Kw7HrO-"
   },
   "outputs": [
    {
     "data": {
      "text/plain": [
       "'import sys\\nfrom PySide6.QtWidgets import QApplication, QMainWindow, QPushButton, QLineEdit, QTextBrowser, QLabel\\n\\ndef run_pyside_app():\\n    app = QApplication.instance()  # Check if QApplication already exists\\n    if not app:\\n        app = QApplication(sys.argv)  # Create a new QApplication if it doesn\\'t exist\\n\\n    window = QMainWindow()\\n    window.setWindowTitle(\"MATH AI: Word Problem Equation Generator\")\\n    window.setGeometry(100, 100, 600, 400)  # Adjust the window size\\n\\n    # Stylesheet for styling the UI\\n    style = \"\"\"\\n        QLabel {\\n            font-size: 14px;\\n        }\\n        QLineEdit, QTextBrowser {\\n            font-size: 16px;\\n            padding: 5px;\\n            border: 1px solid #ccc;\\n            border-radius: 5px;\\n        }\\n        QPushButton {\\n            font-size: 16px;\\n            background-color: #007bff;\\n            color: white;\\n            border: none;\\n            border-radius: 5px;\\n            padding: 10px;\\n        }\\n        QPushButton:hover {\\n            background-color: #0056b3;\\n        }\\n    \"\"\"\\n    window.setStyleSheet(style)\\n\\n    input_label = QLabel(\"Enter the word problem here:\", window)\\n    input_label.setGeometry(50, 50, 500, 30)\\n\\n    input_field = QLineEdit(window)\\n    input_field.setGeometry(50, 90, 500, 40)  # Adjust field position and size\\n\\n    result_label = QLabel(\"Generated Output:\", window)\\n    result_label.setGeometry(50, 150, 500, 30)\\n\\n    result_area = QTextBrowser(window)\\n    result_area.setGeometry(50, 190, 500, 100)  # Adjust area position and size\\n\\n    generate_button = QPushButton(\"Generate\", window)\\n    generate_button.setGeometry(250, 310, 100, 40)  # Adjust button position\\n\\n    def generate_clicked():\\n        sample_problem = input_field.text()\\n        result = solve(sample_problem, plot=\\'decoder_layer4_block2\\', plot_Attention_Weights=False)\\n        result_area.setPlainText(result)\\n\\n    generate_button.clicked.connect(generate_clicked)\\n\\n    window.show()\\n\\n    sys.exit(app.exec_())\\n\\n# Run the PySide app\\nrun_pyside_app()'"
      ]
     },
     "execution_count": 77,
     "metadata": {},
     "output_type": "execute_result"
    }
   ],
   "source": [
    "'''import sys\n",
    "from PySide6.QtWidgets import QApplication, QMainWindow, QPushButton, QLineEdit, QTextBrowser, QLabel\n",
    "\n",
    "def run_pyside_app():\n",
    "    app = QApplication.instance()  # Check if QApplication already exists\n",
    "    if not app:\n",
    "        app = QApplication(sys.argv)  # Create a new QApplication if it doesn't exist\n",
    "\n",
    "    window = QMainWindow()\n",
    "    window.setWindowTitle(\"MATH AI: Word Problem Equation Generator\")\n",
    "    window.setGeometry(100, 100, 600, 400)  # Adjust the window size\n",
    "\n",
    "    # Stylesheet for styling the UI\n",
    "    style = \"\"\"\n",
    "        QLabel {\n",
    "            font-size: 14px;\n",
    "        }\n",
    "        QLineEdit, QTextBrowser {\n",
    "            font-size: 16px;\n",
    "            padding: 5px;\n",
    "            border: 1px solid #ccc;\n",
    "            border-radius: 5px;\n",
    "        }\n",
    "        QPushButton {\n",
    "            font-size: 16px;\n",
    "            background-color: #007bff;\n",
    "            color: white;\n",
    "            border: none;\n",
    "            border-radius: 5px;\n",
    "            padding: 10px;\n",
    "        }\n",
    "        QPushButton:hover {\n",
    "            background-color: #0056b3;\n",
    "        }\n",
    "    \"\"\"\n",
    "    window.setStyleSheet(style)\n",
    "\n",
    "    input_label = QLabel(\"Enter the word problem here:\", window)\n",
    "    input_label.setGeometry(50, 50, 500, 30)\n",
    "\n",
    "    input_field = QLineEdit(window)\n",
    "    input_field.setGeometry(50, 90, 500, 40)  # Adjust field position and size\n",
    "\n",
    "    result_label = QLabel(\"Generated Output:\", window)\n",
    "    result_label.setGeometry(50, 150, 500, 30)\n",
    "\n",
    "    result_area = QTextBrowser(window)\n",
    "    result_area.setGeometry(50, 190, 500, 100)  # Adjust area position and size\n",
    "\n",
    "    generate_button = QPushButton(\"Generate\", window)\n",
    "    generate_button.setGeometry(250, 310, 100, 40)  # Adjust button position\n",
    "\n",
    "    def generate_clicked():\n",
    "        sample_problem = input_field.text()\n",
    "        result = solve(sample_problem, plot='decoder_layer4_block2', plot_Attention_Weights=False)\n",
    "        result_area.setPlainText(result)\n",
    "\n",
    "    generate_button.clicked.connect(generate_clicked)\n",
    "\n",
    "    window.show()\n",
    "\n",
    "    sys.exit(app.exec_())\n",
    "\n",
    "# Run the PySide app\n",
    "run_pyside_app()'''\n"
   ]
  },
  {
   "cell_type": "code",
   "execution_count": 78,
   "metadata": {},
   "outputs": [
    {
     "data": {
      "text/plain": [
       "'import sys\\nfrom PyQt5.QtWidgets import QApplication, QWidget, QVBoxLayout, QPushButton, QTextEdit, QLabel\\n\\nclass MathAIApp(QWidget):\\n    def __init__(self):\\n        super().__init__()\\n        self.initUI()\\n\\n    def initUI(self):\\n        self.setWindowTitle(\\'MATH AI: Word Problems Solved\\')\\n        self.setGeometry(100, 100, 800, 600)\\n\\n        # Welcome Screen\\n        self.welcome_label = QLabel(\"Welcome To MATH AI: Word Problems Solved\")\\n        self.welcome_next_button = QPushButton(\"Next\")\\n        self.welcome_next_button.clicked.connect(self.showMainScreen)\\n\\n        welcome_layout = QVBoxLayout()\\n        welcome_layout.addWidget(self.welcome_label)\\n        welcome_layout.addWidget(self.welcome_next_button)\\n\\n        self.welcome_screen = QWidget()\\n        self.welcome_screen.setLayout(welcome_layout)\\n\\n        # Main Screen\\n        self.input_text = QTextEdit()\\n        self.generated_equation = QTextEdit()\\n        self.generated_equation.setReadOnly(True)\\n        self.solved_equation = QTextEdit()\\n\\n        self.generate_button = QPushButton(\"Generate Equation\")\\n        self.generate_button.clicked.connect(self.generateEquation)\\n\\n        self.solve_button = QPushButton(\"Solve Equation\")\\n\\n        main_layout = QVBoxLayout()\\n        main_layout.addWidget(self.input_text)\\n        main_layout.addWidget(self.generated_equation)\\n        main_layout.addWidget(self.solved_equation)\\n        main_layout.addWidget(self.generate_button)\\n        main_layout.addWidget(self.solve_button)\\n\\n        self.main_screen = QWidget()\\n        self.main_screen.setLayout(main_layout)\\n        self.main_screen.hide()\\n\\n        # Stack both screens\\n        self.stack = QVBoxLayout()\\n        self.stack.addWidget(self.welcome_screen)\\n        self.stack.addWidget(self.main_screen)\\n\\n        self.setLayout(self.stack)\\n\\n    def showMainScreen(self):\\n        self.welcome_screen.hide()\\n        self.main_screen.show()\\n\\n    def generateEquation(self):\\n        # Get the user input problem\\n        problem = self.input_text.toPlainText()\\n\\n        # Call the solve function and capture the output\\n        predicted_translation = self.solve(problem, plot=\\'decoder_layer4_block2\\', plot_Attention_Weights=False)\\n\\n        # Display the predicted translation in the Generated Equation area\\n        self.generated_equation.setPlainText(predicted_translation)\\n\\n    def solve(self, problem, plot, plot_Attention_Weights):\\n        # Your solve logic\\n        prediction, attention_weights = evaluate(problem)\\n        predicted_expression = [Y_lang_tokenizer.index_word[i]                               for i in list(prediction.numpy())                               if (i < len(Y_lang_tokenizer.word_index) and i not in [0, 46, 47])]\\n        input_text = problem\\n        predicted_translation = \\' \\'.join(predicted_expression)\\n\\n        # Update the UI with the predicted translation\\n        self.generated_equation.setPlainText(predicted_translation)\\n\\n        # If needed, add logic for attention weight plotting here\\n        # plot_attention_weights(attention_weights, problem, prediction, plot)\\n\\n        return predicted_translation\\n\\ndef main():\\n    app = QApplication(sys.argv)\\n    math_ai = MathAIApp()\\n    math_ai.show()\\n    sys.exit(app.exec_())\\n\\nif __name__ == \\'__main__\\':\\n    main()\\n'"
      ]
     },
     "execution_count": 78,
     "metadata": {},
     "output_type": "execute_result"
    }
   ],
   "source": [
    "'''import sys\n",
    "from PyQt5.QtWidgets import QApplication, QWidget, QVBoxLayout, QPushButton, QTextEdit, QLabel\n",
    "\n",
    "class MathAIApp(QWidget):\n",
    "    def __init__(self):\n",
    "        super().__init__()\n",
    "        self.initUI()\n",
    "\n",
    "    def initUI(self):\n",
    "        self.setWindowTitle('MATH AI: Word Problems Solved')\n",
    "        self.setGeometry(100, 100, 800, 600)\n",
    "\n",
    "        # Welcome Screen\n",
    "        self.welcome_label = QLabel(\"Welcome To MATH AI: Word Problems Solved\")\n",
    "        self.welcome_next_button = QPushButton(\"Next\")\n",
    "        self.welcome_next_button.clicked.connect(self.showMainScreen)\n",
    "\n",
    "        welcome_layout = QVBoxLayout()\n",
    "        welcome_layout.addWidget(self.welcome_label)\n",
    "        welcome_layout.addWidget(self.welcome_next_button)\n",
    "\n",
    "        self.welcome_screen = QWidget()\n",
    "        self.welcome_screen.setLayout(welcome_layout)\n",
    "\n",
    "        # Main Screen\n",
    "        self.input_text = QTextEdit()\n",
    "        self.generated_equation = QTextEdit()\n",
    "        self.generated_equation.setReadOnly(True)\n",
    "        self.solved_equation = QTextEdit()\n",
    "\n",
    "        self.generate_button = QPushButton(\"Generate Equation\")\n",
    "        self.generate_button.clicked.connect(self.generateEquation)\n",
    "\n",
    "        self.solve_button = QPushButton(\"Solve Equation\")\n",
    "\n",
    "        main_layout = QVBoxLayout()\n",
    "        main_layout.addWidget(self.input_text)\n",
    "        main_layout.addWidget(self.generated_equation)\n",
    "        main_layout.addWidget(self.solved_equation)\n",
    "        main_layout.addWidget(self.generate_button)\n",
    "        main_layout.addWidget(self.solve_button)\n",
    "\n",
    "        self.main_screen = QWidget()\n",
    "        self.main_screen.setLayout(main_layout)\n",
    "        self.main_screen.hide()\n",
    "\n",
    "        # Stack both screens\n",
    "        self.stack = QVBoxLayout()\n",
    "        self.stack.addWidget(self.welcome_screen)\n",
    "        self.stack.addWidget(self.main_screen)\n",
    "\n",
    "        self.setLayout(self.stack)\n",
    "\n",
    "    def showMainScreen(self):\n",
    "        self.welcome_screen.hide()\n",
    "        self.main_screen.show()\n",
    "\n",
    "    def generateEquation(self):\n",
    "        # Get the user input problem\n",
    "        problem = self.input_text.toPlainText()\n",
    "\n",
    "        # Call the solve function and capture the output\n",
    "        predicted_translation = self.solve(problem, plot='decoder_layer4_block2', plot_Attention_Weights=False)\n",
    "\n",
    "        # Display the predicted translation in the Generated Equation area\n",
    "        self.generated_equation.setPlainText(predicted_translation)\n",
    "\n",
    "    def solve(self, problem, plot, plot_Attention_Weights):\n",
    "        # Your solve logic\n",
    "        prediction, attention_weights = evaluate(problem)\n",
    "        predicted_expression = [Y_lang_tokenizer.index_word[i] \\\n",
    "                              for i in list(prediction.numpy()) \\\n",
    "                              if (i < len(Y_lang_tokenizer.word_index) and i not in [0, 46, 47])]\n",
    "        input_text = problem\n",
    "        predicted_translation = ' '.join(predicted_expression)\n",
    "\n",
    "        # Update the UI with the predicted translation\n",
    "        self.generated_equation.setPlainText(predicted_translation)\n",
    "\n",
    "        # If needed, add logic for attention weight plotting here\n",
    "        # plot_attention_weights(attention_weights, problem, prediction, plot)\n",
    "\n",
    "        return predicted_translation\n",
    "\n",
    "def main():\n",
    "    app = QApplication(sys.argv)\n",
    "    math_ai = MathAIApp()\n",
    "    math_ai.show()\n",
    "    sys.exit(app.exec_())\n",
    "\n",
    "if __name__ == '__main__':\n",
    "    main()\n",
    "'''"
   ]
  },
  {
   "cell_type": "code",
   "execution_count": 79,
   "metadata": {},
   "outputs": [
    {
     "data": {
      "text/plain": [
       "'import sys\\nfrom PyQt5.QtWidgets import QApplication, QWidget, QVBoxLayout, QPushButton, QTextEdit, QLabel\\nfrom PyQt5.QtCore import Qt\\nfrom PyQt5.QtGui import QFont  # Import QFont from PyQt5.QtGui\\n\\n\\nclass MathAIApp(QWidget):\\n    def __init__(self):\\n        super().__init__()  # Corrected super() call\\n        self.initUI()\\n\\n    def initUI(self):\\n        self.setWindowTitle(\\'MATH AI: Word Problems Solved\\')\\n        self.setGeometry(100, 100, 800, 600)\\n\\n        # Welcome Screen\\n        self.welcome_label = QLabel(\"Welcome To MATH AI: Word Problems Solved\")\\n        self.welcome_label.setFont(QFont(\"Arial\", 16, QFont.Bold))\\n        self.welcome_next_button = QPushButton(\"Next\")\\n        self.welcome_next_button.setFont(QFont(\"Arial\", 12))\\n        self.welcome_next_button.clicked.connect(self.showMainScreen)\\n\\n        welcome_layout = QVBoxLayout()\\n        welcome_layout.addStretch(1)\\n        welcome_layout.addWidget(self.welcome_label, alignment=Qt.AlignmentFlag.AlignCenter)\\n        welcome_layout.addWidget(self.welcome_next_button, alignment=Qt.AlignmentFlag.AlignCenter)\\n        welcome_layout.addStretch(1)\\n\\n        self.welcome_screen = QWidget()\\n        self.welcome_screen.setLayout(welcome_layout)\\n\\n        # Main Screen\\n        self.input_label = QLabel(\"Input Word Problem:\")\\n        self.input_text = QTextEdit()\\n        self.generated_label = QLabel(\"Generated Equation:\")\\n        self.generated_equation = QTextEdit()\\n        self.generated_equation.setReadOnly(True)\\n        self.solve_label = QLabel(\"Solved Equation:\")\\n        self.solved_equation = QTextEdit()\\n        self.solved_equation.setReadOnly(True)\\n\\n        self.generate_button = QPushButton(\"Generate Equation\")\\n        self.generate_button.setFont(QFont(\"Arial\", 12))\\n        self.generate_button.clicked.connect(self.generateEquation)\\n\\n        self.solve_button = QPushButton(\"Solve Equation\")\\n        self.solve_button.setFont(QFont(\"Arial\", 12))\\n\\n        main_layout = QVBoxLayout()\\n        input_layout = QVBoxLayout()\\n        input_layout.addWidget(self.input_label)\\n        input_layout.addWidget(self.input_text)\\n        generated_layout = QVBoxLayout()\\n        generated_layout.addWidget(self.generated_label)\\n        generated_layout.addWidget(self.generated_equation)\\n        solve_layout = QVBoxLayout()\\n        solve_layout.addWidget(self.solve_label)\\n        solve_layout.addWidget(self.solved_equation)\\n\\n        main_layout.addLayout(input_layout)\\n        main_layout.addWidget(self.generate_button, alignment=Qt.AlignmentFlag.AlignCenter)\\n        main_layout.addLayout(generated_layout)\\n        main_layout.addWidget(self.solve_button, alignment=Qt.AlignmentFlag.AlignCenter)\\n        main_layout.addLayout(solve_layout)\\n\\n        self.main_screen = QWidget()\\n        self.main_screen.setLayout(main_layout)\\n        self.main_screen.hide()\\n\\n        # Stack both screens\\n        self.stack = QVBoxLayout()\\n        self.stack.addWidget(self.welcome_screen)\\n        self.stack.addWidget(self.main_screen)\\n\\n        self.setLayout(self.stack)\\n\\n    def showMainScreen(self):\\n        self.welcome_screen.hide()\\n        self.main_screen.show()\\n\\n    def generateEquation(self):\\n        # Get the user input problem\\n        problem = self.input_text.toPlainText()\\n\\n        # Call the solve function and capture the output\\n        predicted_translation = self.solve(problem, plot=\\'decoder_layer4_block2\\', plot_Attention_Weights=False)\\n\\n        # Display the predicted translation in the Generated Equation area\\n        self.generated_equation.setPlainText(predicted_translation)\\n\\n    def solve(self, problem, plot, plot_Attention_Weights):\\n        # Your solve logic\\n        prediction, attention_weights = evaluate(problem)\\n        predicted_expression = [Y_lang_tokenizer.index_word[i]                               for i in list(prediction.numpy())                               if (i < len(Y_lang_tokenizer.word_index) and i not in [0, 46, 47])]\\n        input_text = problem\\n        predicted_translation = \\' \\'.join(predicted_expression)\\n\\n        # Update the UI with the predicted translation\\n        self.generated_equation.setPlainText(predicted_translation)\\n\\n        # If needed, add logic for attention weight plotting here\\n        # plot_attention_weights(attention_weights, problem, prediction, plot)\\n\\n        return predicted_translation\\n\\ndef main():\\n    app = QApplication(sys.argv)\\n    math_ai = MathAIApp()\\n    math_ai.show()\\n    sys.exit(app.exec_())\\n\\nif __name__ == \\'__main__\\':\\n    main()\\n'"
      ]
     },
     "execution_count": 79,
     "metadata": {},
     "output_type": "execute_result"
    }
   ],
   "source": [
    "'''import sys\n",
    "from PyQt5.QtWidgets import QApplication, QWidget, QVBoxLayout, QPushButton, QTextEdit, QLabel\n",
    "from PyQt5.QtCore import Qt\n",
    "from PyQt5.QtGui import QFont  # Import QFont from PyQt5.QtGui\n",
    "\n",
    "\n",
    "class MathAIApp(QWidget):\n",
    "    def __init__(self):\n",
    "        super().__init__()  # Corrected super() call\n",
    "        self.initUI()\n",
    "\n",
    "    def initUI(self):\n",
    "        self.setWindowTitle('MATH AI: Word Problems Solved')\n",
    "        self.setGeometry(100, 100, 800, 600)\n",
    "\n",
    "        # Welcome Screen\n",
    "        self.welcome_label = QLabel(\"Welcome To MATH AI: Word Problems Solved\")\n",
    "        self.welcome_label.setFont(QFont(\"Arial\", 16, QFont.Bold))\n",
    "        self.welcome_next_button = QPushButton(\"Next\")\n",
    "        self.welcome_next_button.setFont(QFont(\"Arial\", 12))\n",
    "        self.welcome_next_button.clicked.connect(self.showMainScreen)\n",
    "\n",
    "        welcome_layout = QVBoxLayout()\n",
    "        welcome_layout.addStretch(1)\n",
    "        welcome_layout.addWidget(self.welcome_label, alignment=Qt.AlignmentFlag.AlignCenter)\n",
    "        welcome_layout.addWidget(self.welcome_next_button, alignment=Qt.AlignmentFlag.AlignCenter)\n",
    "        welcome_layout.addStretch(1)\n",
    "\n",
    "        self.welcome_screen = QWidget()\n",
    "        self.welcome_screen.setLayout(welcome_layout)\n",
    "\n",
    "        # Main Screen\n",
    "        self.input_label = QLabel(\"Input Word Problem:\")\n",
    "        self.input_text = QTextEdit()\n",
    "        self.generated_label = QLabel(\"Generated Equation:\")\n",
    "        self.generated_equation = QTextEdit()\n",
    "        self.generated_equation.setReadOnly(True)\n",
    "        self.solve_label = QLabel(\"Solved Equation:\")\n",
    "        self.solved_equation = QTextEdit()\n",
    "        self.solved_equation.setReadOnly(True)\n",
    "\n",
    "        self.generate_button = QPushButton(\"Generate Equation\")\n",
    "        self.generate_button.setFont(QFont(\"Arial\", 12))\n",
    "        self.generate_button.clicked.connect(self.generateEquation)\n",
    "\n",
    "        self.solve_button = QPushButton(\"Solve Equation\")\n",
    "        self.solve_button.setFont(QFont(\"Arial\", 12))\n",
    "\n",
    "        main_layout = QVBoxLayout()\n",
    "        input_layout = QVBoxLayout()\n",
    "        input_layout.addWidget(self.input_label)\n",
    "        input_layout.addWidget(self.input_text)\n",
    "        generated_layout = QVBoxLayout()\n",
    "        generated_layout.addWidget(self.generated_label)\n",
    "        generated_layout.addWidget(self.generated_equation)\n",
    "        solve_layout = QVBoxLayout()\n",
    "        solve_layout.addWidget(self.solve_label)\n",
    "        solve_layout.addWidget(self.solved_equation)\n",
    "\n",
    "        main_layout.addLayout(input_layout)\n",
    "        main_layout.addWidget(self.generate_button, alignment=Qt.AlignmentFlag.AlignCenter)\n",
    "        main_layout.addLayout(generated_layout)\n",
    "        main_layout.addWidget(self.solve_button, alignment=Qt.AlignmentFlag.AlignCenter)\n",
    "        main_layout.addLayout(solve_layout)\n",
    "\n",
    "        self.main_screen = QWidget()\n",
    "        self.main_screen.setLayout(main_layout)\n",
    "        self.main_screen.hide()\n",
    "\n",
    "        # Stack both screens\n",
    "        self.stack = QVBoxLayout()\n",
    "        self.stack.addWidget(self.welcome_screen)\n",
    "        self.stack.addWidget(self.main_screen)\n",
    "\n",
    "        self.setLayout(self.stack)\n",
    "\n",
    "    def showMainScreen(self):\n",
    "        self.welcome_screen.hide()\n",
    "        self.main_screen.show()\n",
    "\n",
    "    def generateEquation(self):\n",
    "        # Get the user input problem\n",
    "        problem = self.input_text.toPlainText()\n",
    "\n",
    "        # Call the solve function and capture the output\n",
    "        predicted_translation = self.solve(problem, plot='decoder_layer4_block2', plot_Attention_Weights=False)\n",
    "\n",
    "        # Display the predicted translation in the Generated Equation area\n",
    "        self.generated_equation.setPlainText(predicted_translation)\n",
    "\n",
    "    def solve(self, problem, plot, plot_Attention_Weights):\n",
    "        # Your solve logic\n",
    "        prediction, attention_weights = evaluate(problem)\n",
    "        predicted_expression = [Y_lang_tokenizer.index_word[i] \\\n",
    "                              for i in list(prediction.numpy()) \\\n",
    "                              if (i < len(Y_lang_tokenizer.word_index) and i not in [0, 46, 47])]\n",
    "        input_text = problem\n",
    "        predicted_translation = ' '.join(predicted_expression)\n",
    "\n",
    "        # Update the UI with the predicted translation\n",
    "        self.generated_equation.setPlainText(predicted_translation)\n",
    "\n",
    "        # If needed, add logic for attention weight plotting here\n",
    "        # plot_attention_weights(attention_weights, problem, prediction, plot)\n",
    "\n",
    "        return predicted_translation\n",
    "\n",
    "def main():\n",
    "    app = QApplication(sys.argv)\n",
    "    math_ai = MathAIApp()\n",
    "    math_ai.show()\n",
    "    sys.exit(app.exec_())\n",
    "\n",
    "if __name__ == '__main__':\n",
    "    main()\n",
    "'''"
   ]
  },
  {
   "cell_type": "code",
   "execution_count": 80,
   "metadata": {},
   "outputs": [
    {
     "data": {
      "text/plain": [
       "'import sys\\nfrom PyQt5.QtWidgets import QApplication, QWidget, QVBoxLayout, QPushButton, QTextEdit, QLabel\\nfrom PyQt5.QtCore import Qt\\nfrom PyQt5.QtGui import QFont\\n\\nclass MathAIApp(QWidget):\\n    def __init__(self):\\n        super().__init__()\\n        self.initUI()\\n\\n    def initUI(self):\\n        self.setWindowTitle(\\'MATH AI: Word Problems Solved\\')\\n        self.setGeometry(100, 100, 800, 600)\\n\\n        # Welcome Screen\\n        self.welcome_label = QLabel(\"Welcome To MATH AI: Word Problems Solved\")\\n        self.welcome_label.setFont(QFont(\"Arial\", 16, QFont.Bold))\\n        self.welcome_next_button = QPushButton(\"Next\")\\n        self.welcome_next_button.setFont(QFont(\"Arial\", 12))\\n        self.welcome_next_button.clicked.connect(self.showMainScreen)\\n\\n        # Apply styles to the Next button\\n        self.style_button(self.welcome_next_button)\\n\\n        welcome_layout = QVBoxLayout()\\n        welcome_layout.addStretch(1)\\n        welcome_layout.addWidget(self.welcome_label, alignment=Qt.AlignmentFlag.AlignCenter)\\n        welcome_layout.addWidget(self.welcome_next_button, alignment=Qt.AlignmentFlag.AlignCenter)\\n        welcome_layout.addStretch(1)\\n\\n        self.welcome_screen = QWidget()\\n        self.welcome_screen.setLayout(welcome_layout)\\n\\n        # Main Screen\\n        self.input_label = QLabel(\"Input Word Problem:\")\\n        self.input_text = QTextEdit()\\n        self.generated_label = QLabel(\"Generated Equation:\")\\n        self.generated_equation = QTextEdit()\\n        self.generated_equation.setReadOnly(True)\\n        self.solve_label = QLabel(\"Solved Equation:\")\\n        self.solved_equation = QTextEdit()\\n        self.solved_equation.setReadOnly(True)\\n\\n        self.generate_button = QPushButton(\"Generate Equation\")\\n        self.generate_button.setFont(QFont(\"Arial\", 12))\\n        self.generate_button.clicked.connect(self.generateEquation)\\n\\n        # Apply styles to the Generate button\\n        self.style_button(self.generate_button)\\n\\n        self.solve_button = QPushButton(\"Solve Equation\")\\n        self.solve_button.setFont(QFont(\"Arial\", 12))\\n\\n        main_layout = QVBoxLayout()\\n        input_layout = QVBoxLayout()\\n        input_layout.addWidget(self.input_label)\\n        input_layout.addWidget(self.input_text)\\n        generated_layout = QVBoxLayout()\\n        generated_layout.addWidget(self.generated_label)\\n        generated_layout.addWidget(self.generated_equation)\\n        solve_layout = QVBoxLayout()\\n        solve_layout.addWidget(self.solve_label)\\n        solve_layout.addWidget(self.solved_equation)\\n\\n        main_layout.addLayout(input_layout)\\n        main_layout.addWidget(self.generate_button, alignment=Qt.AlignmentFlag.AlignCenter)\\n        main_layout.addLayout(generated_layout)\\n        main_layout.addWidget(self.solve_button, alignment=Qt.AlignmentFlag.AlignCenter)\\n        main_layout.addLayout(solve_layout)\\n\\n        self.main_screen = QWidget()\\n        self.main_screen.setLayout(main_layout)\\n        self.main_screen.hide()\\n\\n        # Stack both screens\\n        self.stack = QVBoxLayout()\\n        self.stack.addWidget(self.welcome_screen)\\n        self.stack.addWidget(self.main_screen)\\n\\n        self.setLayout(self.stack)\\n\\n    def showMainScreen(self):\\n        self.welcome_screen.hide()\\n        self.main_screen.show()\\n\\n    def generateEquation(self):\\n        # Get the user input problem\\n        problem = self.input_text.toPlainText()\\n\\n        # Call the solve function and capture the output\\n        predicted_translation = self.solve(problem, plot=\\'decoder_layer4_block2\\', plot_Attention_Weights=False)\\n\\n        # Display the predicted translation in the Generated Equation area\\n        self.generated_equation.setPlainText(predicted_translation)\\n\\n    def solve(self, problem, plot, plot_Attention_Weights):\\n        # Your solve logic\\n        prediction, attention_weights = evaluate(problem)\\n        predicted_expression = [Y_lang_tokenizer.index_word[i]                               for i in list(prediction.numpy())                               if (i < len(Y_lang_tokenizer.word_index) and i not in [0, 46, 47])]\\n        input_text = problem\\n        predicted_translation = \\' \\'.join(predicted_expression)\\n\\n        # Update the UI with the predicted translation\\n        self.generated_equation.setPlainText(predicted_translation)\\n\\n        # If needed, add logic for attention weight plotting here\\n        # plot_attention_weights(attention_weights, problem, prediction, plot)\\n\\n        return predicted_translation\\n\\n    def style_button(self, button):\\n        # Apply Bootstrap-style button styling\\n        button.setStyleSheet(\"QPushButton { background-color: #007BFF; color: white; padding: 10px 20px; border: none; border-radius: 5px; }\"\\n                             \"QPushButton:hover { background-color: #0056b3; }\")\\n\\ndef main():\\n    app = QApplication(sys.argv)\\n    math_ai = MathAIApp()\\n    math_ai.show()\\n    sys.exit(app.exec_())\\n\\nif __name__ == \\'__main__\\':\\n    main()\\n'"
      ]
     },
     "execution_count": 80,
     "metadata": {},
     "output_type": "execute_result"
    }
   ],
   "source": [
    "'''import sys\n",
    "from PyQt5.QtWidgets import QApplication, QWidget, QVBoxLayout, QPushButton, QTextEdit, QLabel\n",
    "from PyQt5.QtCore import Qt\n",
    "from PyQt5.QtGui import QFont\n",
    "\n",
    "class MathAIApp(QWidget):\n",
    "    def __init__(self):\n",
    "        super().__init__()\n",
    "        self.initUI()\n",
    "\n",
    "    def initUI(self):\n",
    "        self.setWindowTitle('MATH AI: Word Problems Solved')\n",
    "        self.setGeometry(100, 100, 800, 600)\n",
    "\n",
    "        # Welcome Screen\n",
    "        self.welcome_label = QLabel(\"Welcome To MATH AI: Word Problems Solved\")\n",
    "        self.welcome_label.setFont(QFont(\"Arial\", 16, QFont.Bold))\n",
    "        self.welcome_next_button = QPushButton(\"Next\")\n",
    "        self.welcome_next_button.setFont(QFont(\"Arial\", 12))\n",
    "        self.welcome_next_button.clicked.connect(self.showMainScreen)\n",
    "\n",
    "        # Apply styles to the Next button\n",
    "        self.style_button(self.welcome_next_button)\n",
    "\n",
    "        welcome_layout = QVBoxLayout()\n",
    "        welcome_layout.addStretch(1)\n",
    "        welcome_layout.addWidget(self.welcome_label, alignment=Qt.AlignmentFlag.AlignCenter)\n",
    "        welcome_layout.addWidget(self.welcome_next_button, alignment=Qt.AlignmentFlag.AlignCenter)\n",
    "        welcome_layout.addStretch(1)\n",
    "\n",
    "        self.welcome_screen = QWidget()\n",
    "        self.welcome_screen.setLayout(welcome_layout)\n",
    "\n",
    "        # Main Screen\n",
    "        self.input_label = QLabel(\"Input Word Problem:\")\n",
    "        self.input_text = QTextEdit()\n",
    "        self.generated_label = QLabel(\"Generated Equation:\")\n",
    "        self.generated_equation = QTextEdit()\n",
    "        self.generated_equation.setReadOnly(True)\n",
    "        self.solve_label = QLabel(\"Solved Equation:\")\n",
    "        self.solved_equation = QTextEdit()\n",
    "        self.solved_equation.setReadOnly(True)\n",
    "\n",
    "        self.generate_button = QPushButton(\"Generate Equation\")\n",
    "        self.generate_button.setFont(QFont(\"Arial\", 12))\n",
    "        self.generate_button.clicked.connect(self.generateEquation)\n",
    "\n",
    "        # Apply styles to the Generate button\n",
    "        self.style_button(self.generate_button)\n",
    "\n",
    "        self.solve_button = QPushButton(\"Solve Equation\")\n",
    "        self.solve_button.setFont(QFont(\"Arial\", 12))\n",
    "\n",
    "        main_layout = QVBoxLayout()\n",
    "        input_layout = QVBoxLayout()\n",
    "        input_layout.addWidget(self.input_label)\n",
    "        input_layout.addWidget(self.input_text)\n",
    "        generated_layout = QVBoxLayout()\n",
    "        generated_layout.addWidget(self.generated_label)\n",
    "        generated_layout.addWidget(self.generated_equation)\n",
    "        solve_layout = QVBoxLayout()\n",
    "        solve_layout.addWidget(self.solve_label)\n",
    "        solve_layout.addWidget(self.solved_equation)\n",
    "\n",
    "        main_layout.addLayout(input_layout)\n",
    "        main_layout.addWidget(self.generate_button, alignment=Qt.AlignmentFlag.AlignCenter)\n",
    "        main_layout.addLayout(generated_layout)\n",
    "        main_layout.addWidget(self.solve_button, alignment=Qt.AlignmentFlag.AlignCenter)\n",
    "        main_layout.addLayout(solve_layout)\n",
    "\n",
    "        self.main_screen = QWidget()\n",
    "        self.main_screen.setLayout(main_layout)\n",
    "        self.main_screen.hide()\n",
    "\n",
    "        # Stack both screens\n",
    "        self.stack = QVBoxLayout()\n",
    "        self.stack.addWidget(self.welcome_screen)\n",
    "        self.stack.addWidget(self.main_screen)\n",
    "\n",
    "        self.setLayout(self.stack)\n",
    "\n",
    "    def showMainScreen(self):\n",
    "        self.welcome_screen.hide()\n",
    "        self.main_screen.show()\n",
    "\n",
    "    def generateEquation(self):\n",
    "        # Get the user input problem\n",
    "        problem = self.input_text.toPlainText()\n",
    "\n",
    "        # Call the solve function and capture the output\n",
    "        predicted_translation = self.solve(problem, plot='decoder_layer4_block2', plot_Attention_Weights=False)\n",
    "\n",
    "        # Display the predicted translation in the Generated Equation area\n",
    "        self.generated_equation.setPlainText(predicted_translation)\n",
    "\n",
    "    def solve(self, problem, plot, plot_Attention_Weights):\n",
    "        # Your solve logic\n",
    "        prediction, attention_weights = evaluate(problem)\n",
    "        predicted_expression = [Y_lang_tokenizer.index_word[i] \\\n",
    "                              for i in list(prediction.numpy()) \\\n",
    "                              if (i < len(Y_lang_tokenizer.word_index) and i not in [0, 46, 47])]\n",
    "        input_text = problem\n",
    "        predicted_translation = ' '.join(predicted_expression)\n",
    "\n",
    "        # Update the UI with the predicted translation\n",
    "        self.generated_equation.setPlainText(predicted_translation)\n",
    "\n",
    "        # If needed, add logic for attention weight plotting here\n",
    "        # plot_attention_weights(attention_weights, problem, prediction, plot)\n",
    "\n",
    "        return predicted_translation\n",
    "\n",
    "    def style_button(self, button):\n",
    "        # Apply Bootstrap-style button styling\n",
    "        button.setStyleSheet(\"QPushButton { background-color: #007BFF; color: white; padding: 10px 20px; border: none; border-radius: 5px; }\"\n",
    "                             \"QPushButton:hover { background-color: #0056b3; }\")\n",
    "\n",
    "def main():\n",
    "    app = QApplication(sys.argv)\n",
    "    math_ai = MathAIApp()\n",
    "    math_ai.show()\n",
    "    sys.exit(app.exec_())\n",
    "\n",
    "if __name__ == '__main__':\n",
    "    main()\n",
    "'''"
   ]
  },
  {
   "cell_type": "code",
   "execution_count": 81,
   "metadata": {},
   "outputs": [
    {
     "data": {
      "text/plain": [
       "'import sys\\nfrom PyQt5.QtWidgets import QApplication, QWidget, QVBoxLayout, QPushButton, QTextEdit, QLabel\\nfrom PyQt5.QtCore import Qt\\nfrom PyQt5.QtGui import QFont\\n\\nclass MathAIApp(QWidget):\\n    def __init__(self):\\n        super().__init__()\\n        self.initUI()\\n\\n    def initUI(self):\\n        self.setWindowTitle(\\'MATH AI: Word Problems Solved\\')\\n        self.setGeometry(100, 100, 800, 600)\\n\\n        # Apply dark background color to the entire application\\n        self.setStyleSheet(\"background-color: #333333; color: white;\")\\n\\n        # Welcome Screen\\n        self.welcome_label = QLabel(\"Welcome To MATH AI: Word Problems Solved\")\\n        self.welcome_label.setFont(QFont(\"Arial\", 16, QFont.Bold))\\n        self.welcome_next_button = QPushButton(\"Next\")\\n        self.welcome_next_button.setFont(QFont(\"Arial\", 12))\\n        self.welcome_next_button.clicked.connect(self.showMainScreen)\\n\\n        # Apply dark style to the Next button\\n        self.style_button(self.welcome_next_button)\\n\\n        welcome_layout = QVBoxLayout()\\n        welcome_layout.addStretch(1)\\n        welcome_layout.addWidget(self.welcome_label, alignment=Qt.AlignmentFlag.AlignCenter)\\n        welcome_layout.addWidget(self.welcome_next_button, alignment=Qt.AlignmentFlag.AlignCenter)\\n        welcome_layout.addStretch(1)\\n\\n        self.welcome_screen = QWidget()\\n        self.welcome_screen.setLayout(welcome_layout)\\n\\n        # Main Screen\\n        self.input_label = QLabel(\"Input Word Problem:\")\\n        self.input_text = QTextEdit()\\n        self.generated_label = QLabel(\"Generated Equation:\")\\n        self.generated_equation = QTextEdit()\\n        self.generated_equation.setReadOnly(True)\\n        self.solve_label = QLabel(\"Solved Equation:\")\\n        self.solved_equation = QTextEdit()\\n        self.solved_equation.setReadOnly(True)\\n\\n        self.generate_button = QPushButton(\"Generate Equation\")\\n        self.generate_button.setFont(QFont(\"Arial\", 12))\\n        self.generate_button.clicked.connect(self.generateEquation)\\n\\n        # Apply dark style to the Generate button\\n        self.style_button(self.generate_button)\\n\\n        self.solve_button = QPushButton(\"Solve Equation\")\\n        self.solve_button.setFont(QFont(\"Arial\", 12))\\n\\n        # Apply dark style to the Solve button\\n        self.style_button(self.solve_button)\\n\\n        main_layout = QVBoxLayout()\\n        input_layout = QVBoxLayout()\\n        input_layout.addWidget(self.input_label)\\n        input_layout.addWidget(self.input_text)\\n        generated_layout = QVBoxLayout()\\n        generated_layout.addWidget(self.generated_label)\\n        generated_layout.addWidget(self.generated_equation)\\n        solve_layout = QVBoxLayout()\\n        solve_layout.addWidget(self.solve_label)\\n        solve_layout.addWidget(self.solved_equation)\\n\\n        main_layout.addLayout(input_layout)\\n        main_layout.addWidget(self.generate_button, alignment=Qt.AlignmentFlag.AlignCenter)\\n        main_layout.addLayout(generated_layout)\\n        main_layout.addWidget(self.solve_button, alignment=Qt.AlignmentFlag.AlignCenter)\\n        main_layout.addLayout(solve_layout)\\n\\n        # Apply dark style to the main layout\\n        main_layout.setContentsMargins(20, 20, 20, 20)\\n\\n        self.main_screen = QWidget()\\n        self.main_screen.setLayout(main_layout)\\n        self.main_screen.hide()\\n\\n        # Stack both screens\\n        self.stack = QVBoxLayout()\\n        self.stack.addWidget(self.welcome_screen)\\n        self.stack.addWidget(self.main_screen)\\n\\n        self.setLayout(self.stack)\\n\\n    def showMainScreen(self):\\n        self.welcome_screen.hide()\\n        self.main_screen.show()\\n\\n    def generateEquation(self):\\n        # Get the user input problem\\n        problem = self.input_text.toPlainText()\\n\\n        # Call the solve function and capture the output\\n        predicted_translation = self.solve(problem, plot=\\'decoder_layer4_block2\\', plot_Attention_Weights=False)\\n\\n        # Display the predicted translation in the Generated Equation area\\n        self.generated_equation.setPlainText(predicted_translation)\\n\\n    def solve(self, problem, plot, plot_Attention_Weights):\\n        # Your solve logic\\n        prediction, attention_weights = evaluate(problem)\\n        predicted_expression = [Y_lang_tokenizer.index_word[i]                               for i in list(prediction.numpy())                               if (i < len(Y_lang_tokenizer.word_index) and i not in [0, 46, 47])]\\n        input_text = problem\\n        predicted_translation = \\' \\'.join(predicted_expression)\\n\\n        # Update the UI with the predicted translation\\n        self.generated_equation.setPlainText(predicted_translation)\\n\\n        # If needed, add logic for attention weight plotting here\\n        # plot_attention_weights(attention_weights, problem, prediction, plot)\\n\\n        return predicted_translation\\n\\n    def style_button(self, button):\\n        # Apply dark style to the buttons\\n        button.setStyleSheet(\"QPushButton { background-color: #007BFF; color: white; padding: 10px 20px; border: none; border-radius: 5px; }\"\\n                             \"QPushButton:hover { background-color: #0056b3; }\")\\n\\ndef main():\\n    app = QApplication(sys.argv)\\n    math_ai = MathAIApp()\\n    math_ai.show()\\n    sys.exit(app.exec_())\\n\\nif __name__ == \\'__main__\\':\\n    main()\\n'"
      ]
     },
     "execution_count": 81,
     "metadata": {},
     "output_type": "execute_result"
    }
   ],
   "source": [
    "'''import sys\n",
    "from PyQt5.QtWidgets import QApplication, QWidget, QVBoxLayout, QPushButton, QTextEdit, QLabel\n",
    "from PyQt5.QtCore import Qt\n",
    "from PyQt5.QtGui import QFont\n",
    "\n",
    "class MathAIApp(QWidget):\n",
    "    def __init__(self):\n",
    "        super().__init__()\n",
    "        self.initUI()\n",
    "\n",
    "    def initUI(self):\n",
    "        self.setWindowTitle('MATH AI: Word Problems Solved')\n",
    "        self.setGeometry(100, 100, 800, 600)\n",
    "\n",
    "        # Apply dark background color to the entire application\n",
    "        self.setStyleSheet(\"background-color: #333333; color: white;\")\n",
    "\n",
    "        # Welcome Screen\n",
    "        self.welcome_label = QLabel(\"Welcome To MATH AI: Word Problems Solved\")\n",
    "        self.welcome_label.setFont(QFont(\"Arial\", 16, QFont.Bold))\n",
    "        self.welcome_next_button = QPushButton(\"Next\")\n",
    "        self.welcome_next_button.setFont(QFont(\"Arial\", 12))\n",
    "        self.welcome_next_button.clicked.connect(self.showMainScreen)\n",
    "\n",
    "        # Apply dark style to the Next button\n",
    "        self.style_button(self.welcome_next_button)\n",
    "\n",
    "        welcome_layout = QVBoxLayout()\n",
    "        welcome_layout.addStretch(1)\n",
    "        welcome_layout.addWidget(self.welcome_label, alignment=Qt.AlignmentFlag.AlignCenter)\n",
    "        welcome_layout.addWidget(self.welcome_next_button, alignment=Qt.AlignmentFlag.AlignCenter)\n",
    "        welcome_layout.addStretch(1)\n",
    "\n",
    "        self.welcome_screen = QWidget()\n",
    "        self.welcome_screen.setLayout(welcome_layout)\n",
    "\n",
    "        # Main Screen\n",
    "        self.input_label = QLabel(\"Input Word Problem:\")\n",
    "        self.input_text = QTextEdit()\n",
    "        self.generated_label = QLabel(\"Generated Equation:\")\n",
    "        self.generated_equation = QTextEdit()\n",
    "        self.generated_equation.setReadOnly(True)\n",
    "        self.solve_label = QLabel(\"Solved Equation:\")\n",
    "        self.solved_equation = QTextEdit()\n",
    "        self.solved_equation.setReadOnly(True)\n",
    "\n",
    "        self.generate_button = QPushButton(\"Generate Equation\")\n",
    "        self.generate_button.setFont(QFont(\"Arial\", 12))\n",
    "        self.generate_button.clicked.connect(self.generateEquation)\n",
    "\n",
    "        # Apply dark style to the Generate button\n",
    "        self.style_button(self.generate_button)\n",
    "\n",
    "        self.solve_button = QPushButton(\"Solve Equation\")\n",
    "        self.solve_button.setFont(QFont(\"Arial\", 12))\n",
    "\n",
    "        # Apply dark style to the Solve button\n",
    "        self.style_button(self.solve_button)\n",
    "\n",
    "        main_layout = QVBoxLayout()\n",
    "        input_layout = QVBoxLayout()\n",
    "        input_layout.addWidget(self.input_label)\n",
    "        input_layout.addWidget(self.input_text)\n",
    "        generated_layout = QVBoxLayout()\n",
    "        generated_layout.addWidget(self.generated_label)\n",
    "        generated_layout.addWidget(self.generated_equation)\n",
    "        solve_layout = QVBoxLayout()\n",
    "        solve_layout.addWidget(self.solve_label)\n",
    "        solve_layout.addWidget(self.solved_equation)\n",
    "\n",
    "        main_layout.addLayout(input_layout)\n",
    "        main_layout.addWidget(self.generate_button, alignment=Qt.AlignmentFlag.AlignCenter)\n",
    "        main_layout.addLayout(generated_layout)\n",
    "        main_layout.addWidget(self.solve_button, alignment=Qt.AlignmentFlag.AlignCenter)\n",
    "        main_layout.addLayout(solve_layout)\n",
    "\n",
    "        # Apply dark style to the main layout\n",
    "        main_layout.setContentsMargins(20, 20, 20, 20)\n",
    "\n",
    "        self.main_screen = QWidget()\n",
    "        self.main_screen.setLayout(main_layout)\n",
    "        self.main_screen.hide()\n",
    "\n",
    "        # Stack both screens\n",
    "        self.stack = QVBoxLayout()\n",
    "        self.stack.addWidget(self.welcome_screen)\n",
    "        self.stack.addWidget(self.main_screen)\n",
    "\n",
    "        self.setLayout(self.stack)\n",
    "\n",
    "    def showMainScreen(self):\n",
    "        self.welcome_screen.hide()\n",
    "        self.main_screen.show()\n",
    "\n",
    "    def generateEquation(self):\n",
    "        # Get the user input problem\n",
    "        problem = self.input_text.toPlainText()\n",
    "\n",
    "        # Call the solve function and capture the output\n",
    "        predicted_translation = self.solve(problem, plot='decoder_layer4_block2', plot_Attention_Weights=False)\n",
    "\n",
    "        # Display the predicted translation in the Generated Equation area\n",
    "        self.generated_equation.setPlainText(predicted_translation)\n",
    "\n",
    "    def solve(self, problem, plot, plot_Attention_Weights):\n",
    "        # Your solve logic\n",
    "        prediction, attention_weights = evaluate(problem)\n",
    "        predicted_expression = [Y_lang_tokenizer.index_word[i] \\\n",
    "                              for i in list(prediction.numpy()) \\\n",
    "                              if (i < len(Y_lang_tokenizer.word_index) and i not in [0, 46, 47])]\n",
    "        input_text = problem\n",
    "        predicted_translation = ' '.join(predicted_expression)\n",
    "\n",
    "        # Update the UI with the predicted translation\n",
    "        self.generated_equation.setPlainText(predicted_translation)\n",
    "\n",
    "        # If needed, add logic for attention weight plotting here\n",
    "        # plot_attention_weights(attention_weights, problem, prediction, plot)\n",
    "\n",
    "        return predicted_translation\n",
    "\n",
    "    def style_button(self, button):\n",
    "        # Apply dark style to the buttons\n",
    "        button.setStyleSheet(\"QPushButton { background-color: #007BFF; color: white; padding: 10px 20px; border: none; border-radius: 5px; }\"\n",
    "                             \"QPushButton:hover { background-color: #0056b3; }\")\n",
    "\n",
    "def main():\n",
    "    app = QApplication(sys.argv)\n",
    "    math_ai = MathAIApp()\n",
    "    math_ai.show()\n",
    "    sys.exit(app.exec_())\n",
    "\n",
    "if __name__ == '__main__':\n",
    "    main()\n",
    "'''"
   ]
  },
  {
   "cell_type": "code",
   "execution_count": 82,
   "metadata": {},
   "outputs": [
    {
     "data": {
      "text/plain": [
       "'#IMPORTANT UI\\n\\nimport sys\\nfrom PyQt5.QtWidgets import QApplication, QWidget, QVBoxLayout, QPushButton, QTextEdit, QLabel\\nfrom PyQt5.QtCore import Qt\\nfrom PyQt5.QtGui import QFont\\n\\nclass MathAIApp(QWidget):\\n    def __init__(self):\\n        super().__init__()\\n        self.initUI()\\n\\n    def initUI(self):\\n        self.setWindowTitle(\\'MATH AI: Word Problems Solved\\')\\n        self.setGeometry(100, 100, 800, 600)\\n\\n        # Apply dark background color to the entire application\\n        self.setStyleSheet(\"background-color: #333333; color: white;\")\\n\\n        # Welcome Screen\\n        self.welcome_label = QLabel(\"Welcome To MATH AI: Word Problems Solved\")\\n        self.welcome_label.setFont(QFont(\"Arial\", 16, QFont.Bold))\\n        self.welcome_next_button = QPushButton(\"Next\")\\n        self.welcome_next_button.setFont(QFont(\"Arial\", 12))\\n        self.welcome_next_button.clicked.connect(self.showMainScreen)\\n\\n        # Apply dark style to the Next button\\n        self.style_button(self.welcome_next_button)\\n\\n        welcome_layout = QVBoxLayout()\\n        welcome_layout.addStretch(1)\\n        welcome_layout.addWidget(self.welcome_label, alignment=Qt.AlignmentFlag.AlignCenter)\\n        welcome_layout.addWidget(self.welcome_next_button, alignment=Qt.AlignmentFlag.AlignCenter)\\n        welcome_layout.addStretch(1)\\n\\n        self.welcome_screen = QWidget()\\n        self.welcome_screen.setLayout(welcome_layout)\\n\\n        # Main Screen\\n        self.input_label = QLabel(\"Input Word Problem:\")\\n        self.input_text = QTextEdit()\\n        self.generated_label = QLabel(\"Generated Equation:\")\\n        self.generated_equation = QTextEdit()\\n        self.generated_equation.setReadOnly(True)\\n        self.solve_label = QLabel(\"Solved Equation:\")\\n        self.solved_equation = QTextEdit()\\n        self.solved_equation.setReadOnly(True)\\n\\n        # Style the input and output boxes\\n        self.style_text_box(self.input_text)\\n        self.style_text_box(self.generated_equation)\\n        self.style_text_box(self.solved_equation)\\n\\n        self.generate_button = QPushButton(\"Generate Equation\")\\n        self.generate_button.setFont(QFont(\"Arial\", 12))\\n        self.generate_button.clicked.connect(self.generateEquation)\\n\\n        # Apply dark style to the Generate button\\n        self.style_button(self.generate_button)\\n\\n        self.solve_button = QPushButton(\"Solve Equation\")\\n        self.solve_button.setFont(QFont(\"Arial\", 12))\\n\\n        # Apply dark style to the Solve button\\n        self.style_button(self.solve_button)\\n\\n        main_layout = QVBoxLayout()\\n        input_layout = QVBoxLayout()\\n        input_layout.addWidget(self.input_label)\\n        input_layout.addWidget(self.input_text)\\n        generated_layout = QVBoxLayout()\\n        generated_layout.addWidget(self.generated_label)\\n        generated_layout.addWidget(self.generated_equation)\\n        solve_layout = QVBoxLayout()\\n        solve_layout.addWidget(self.solve_label)\\n        solve_layout.addWidget(self.solved_equation)\\n\\n        main_layout.addLayout(input_layout)\\n        main_layout.addWidget(self.generate_button, alignment=Qt.AlignmentFlag.AlignCenter)\\n        main_layout.addLayout(generated_layout)\\n        main_layout.addWidget(self.solve_button, alignment=Qt.AlignmentFlag.AlignCenter)\\n        main_layout.addLayout(solve_layout)\\n\\n        # Apply dark style to the main layout\\n        main_layout.setContentsMargins(20, 20, 20, 20)\\n\\n        self.main_screen = QWidget()\\n        self.main_screen.setLayout(main_layout)\\n        self.main_screen.hide()\\n\\n        # Stack both screens\\n        self.stack = QVBoxLayout()\\n        self.stack.addWidget(self.welcome_screen)\\n        self.stack.addWidget(self.main_screen)\\n\\n        self.setLayout(self.stack)\\n\\n    def showMainScreen(self):\\n        self.welcome_screen.hide()\\n        self.main_screen.show()\\n\\n    def generateEquation(self):\\n        # Get the user input problem\\n        problem = self.input_text.toPlainText()\\n\\n        # Call the solve function and capture the output\\n        predicted_translation = self.solve(problem, plot=\\'decoder_layer4_block2\\', plot_Attention_Weights=False)\\n\\n        # Display the predicted translation in the Generated Equation area\\n        self.generated_equation.setPlainText(predicted_translation)\\n\\n    \\n    def solve(self, problem, plot, plot_Attention_Weights):\\n        # Your solve logic\\n        prediction, attention_weights = evaluate(problem)\\n        predicted_expression = [Y_lang_tokenizer.index_word[i]                               for i in list(prediction.numpy())                               if (i < len(Y_lang_tokenizer.word_index) and i not in [0, 46, 47])]\\n        input_text = problem\\n        predicted_translation = \\' \\'.join(predicted_expression)\\n\\n        # Update the UI with the predicted translation\\n        self.generated_equation.setPlainText(predicted_translation)\\n\\n        # If needed, add logic for attention weight plotting here\\n        # plot_attention_weights(attention_weights, problem, prediction, plot)\\n\\n        return predicted_translation\\n    \\n\\n    def style_button(self, button):\\n        # Apply dark style to the buttons\\n        button.setStyleSheet(\"QPushButton { background-color: #007BFF; color: white; padding: 10px 20px; border: none; border-radius: 5px; }\"\\n                             \"QPushButton:hover { background-color: #0056b3; }\")\\n\\n    def style_text_box(self, text_box):\\n        # Apply dark style to the text boxes\\n        text_box.setStyleSheet(\"QTextEdit { background-color: #444444; color: white; border: 1px solid #666666; border-radius: 5px; }\")\\n\\ndef main():\\n    app = QApplication(sys.argv)\\n    math_ai = MathAIApp()\\n    math_ai.show()\\n    sys.exit(app.exec_())\\n\\nif __name__ == \\'__main__\\':\\n    main()\\n'"
      ]
     },
     "execution_count": 82,
     "metadata": {},
     "output_type": "execute_result"
    }
   ],
   "source": [
    "'''#IMPORTANT UI\n",
    "\n",
    "import sys\n",
    "from PyQt5.QtWidgets import QApplication, QWidget, QVBoxLayout, QPushButton, QTextEdit, QLabel\n",
    "from PyQt5.QtCore import Qt\n",
    "from PyQt5.QtGui import QFont\n",
    "\n",
    "class MathAIApp(QWidget):\n",
    "    def __init__(self):\n",
    "        super().__init__()\n",
    "        self.initUI()\n",
    "\n",
    "    def initUI(self):\n",
    "        self.setWindowTitle('MATH AI: Word Problems Solved')\n",
    "        self.setGeometry(100, 100, 800, 600)\n",
    "\n",
    "        # Apply dark background color to the entire application\n",
    "        self.setStyleSheet(\"background-color: #333333; color: white;\")\n",
    "\n",
    "        # Welcome Screen\n",
    "        self.welcome_label = QLabel(\"Welcome To MATH AI: Word Problems Solved\")\n",
    "        self.welcome_label.setFont(QFont(\"Arial\", 16, QFont.Bold))\n",
    "        self.welcome_next_button = QPushButton(\"Next\")\n",
    "        self.welcome_next_button.setFont(QFont(\"Arial\", 12))\n",
    "        self.welcome_next_button.clicked.connect(self.showMainScreen)\n",
    "\n",
    "        # Apply dark style to the Next button\n",
    "        self.style_button(self.welcome_next_button)\n",
    "\n",
    "        welcome_layout = QVBoxLayout()\n",
    "        welcome_layout.addStretch(1)\n",
    "        welcome_layout.addWidget(self.welcome_label, alignment=Qt.AlignmentFlag.AlignCenter)\n",
    "        welcome_layout.addWidget(self.welcome_next_button, alignment=Qt.AlignmentFlag.AlignCenter)\n",
    "        welcome_layout.addStretch(1)\n",
    "\n",
    "        self.welcome_screen = QWidget()\n",
    "        self.welcome_screen.setLayout(welcome_layout)\n",
    "\n",
    "        # Main Screen\n",
    "        self.input_label = QLabel(\"Input Word Problem:\")\n",
    "        self.input_text = QTextEdit()\n",
    "        self.generated_label = QLabel(\"Generated Equation:\")\n",
    "        self.generated_equation = QTextEdit()\n",
    "        self.generated_equation.setReadOnly(True)\n",
    "        self.solve_label = QLabel(\"Solved Equation:\")\n",
    "        self.solved_equation = QTextEdit()\n",
    "        self.solved_equation.setReadOnly(True)\n",
    "\n",
    "        # Style the input and output boxes\n",
    "        self.style_text_box(self.input_text)\n",
    "        self.style_text_box(self.generated_equation)\n",
    "        self.style_text_box(self.solved_equation)\n",
    "\n",
    "        self.generate_button = QPushButton(\"Generate Equation\")\n",
    "        self.generate_button.setFont(QFont(\"Arial\", 12))\n",
    "        self.generate_button.clicked.connect(self.generateEquation)\n",
    "\n",
    "        # Apply dark style to the Generate button\n",
    "        self.style_button(self.generate_button)\n",
    "\n",
    "        self.solve_button = QPushButton(\"Solve Equation\")\n",
    "        self.solve_button.setFont(QFont(\"Arial\", 12))\n",
    "\n",
    "        # Apply dark style to the Solve button\n",
    "        self.style_button(self.solve_button)\n",
    "\n",
    "        main_layout = QVBoxLayout()\n",
    "        input_layout = QVBoxLayout()\n",
    "        input_layout.addWidget(self.input_label)\n",
    "        input_layout.addWidget(self.input_text)\n",
    "        generated_layout = QVBoxLayout()\n",
    "        generated_layout.addWidget(self.generated_label)\n",
    "        generated_layout.addWidget(self.generated_equation)\n",
    "        solve_layout = QVBoxLayout()\n",
    "        solve_layout.addWidget(self.solve_label)\n",
    "        solve_layout.addWidget(self.solved_equation)\n",
    "\n",
    "        main_layout.addLayout(input_layout)\n",
    "        main_layout.addWidget(self.generate_button, alignment=Qt.AlignmentFlag.AlignCenter)\n",
    "        main_layout.addLayout(generated_layout)\n",
    "        main_layout.addWidget(self.solve_button, alignment=Qt.AlignmentFlag.AlignCenter)\n",
    "        main_layout.addLayout(solve_layout)\n",
    "\n",
    "        # Apply dark style to the main layout\n",
    "        main_layout.setContentsMargins(20, 20, 20, 20)\n",
    "\n",
    "        self.main_screen = QWidget()\n",
    "        self.main_screen.setLayout(main_layout)\n",
    "        self.main_screen.hide()\n",
    "\n",
    "        # Stack both screens\n",
    "        self.stack = QVBoxLayout()\n",
    "        self.stack.addWidget(self.welcome_screen)\n",
    "        self.stack.addWidget(self.main_screen)\n",
    "\n",
    "        self.setLayout(self.stack)\n",
    "\n",
    "    def showMainScreen(self):\n",
    "        self.welcome_screen.hide()\n",
    "        self.main_screen.show()\n",
    "\n",
    "    def generateEquation(self):\n",
    "        # Get the user input problem\n",
    "        problem = self.input_text.toPlainText()\n",
    "\n",
    "        # Call the solve function and capture the output\n",
    "        predicted_translation = self.solve(problem, plot='decoder_layer4_block2', plot_Attention_Weights=False)\n",
    "\n",
    "        # Display the predicted translation in the Generated Equation area\n",
    "        self.generated_equation.setPlainText(predicted_translation)\n",
    "\n",
    "    \n",
    "    def solve(self, problem, plot, plot_Attention_Weights):\n",
    "        # Your solve logic\n",
    "        prediction, attention_weights = evaluate(problem)\n",
    "        predicted_expression = [Y_lang_tokenizer.index_word[i] \\\n",
    "                              for i in list(prediction.numpy()) \\\n",
    "                              if (i < len(Y_lang_tokenizer.word_index) and i not in [0, 46, 47])]\n",
    "        input_text = problem\n",
    "        predicted_translation = ' '.join(predicted_expression)\n",
    "\n",
    "        # Update the UI with the predicted translation\n",
    "        self.generated_equation.setPlainText(predicted_translation)\n",
    "\n",
    "        # If needed, add logic for attention weight plotting here\n",
    "        # plot_attention_weights(attention_weights, problem, prediction, plot)\n",
    "\n",
    "        return predicted_translation\n",
    "    \n",
    "\n",
    "    def style_button(self, button):\n",
    "        # Apply dark style to the buttons\n",
    "        button.setStyleSheet(\"QPushButton { background-color: #007BFF; color: white; padding: 10px 20px; border: none; border-radius: 5px; }\"\n",
    "                             \"QPushButton:hover { background-color: #0056b3; }\")\n",
    "\n",
    "    def style_text_box(self, text_box):\n",
    "        # Apply dark style to the text boxes\n",
    "        text_box.setStyleSheet(\"QTextEdit { background-color: #444444; color: white; border: 1px solid #666666; border-radius: 5px; }\")\n",
    "\n",
    "def main():\n",
    "    app = QApplication(sys.argv)\n",
    "    math_ai = MathAIApp()\n",
    "    math_ai.show()\n",
    "    sys.exit(app.exec_())\n",
    "\n",
    "if __name__ == '__main__':\n",
    "    main()\n",
    "'''"
   ]
  },
  {
   "cell_type": "code",
   "execution_count": null,
   "metadata": {},
   "outputs": [],
   "source": [
    "'''#Main UI\n",
    "import sys\n",
    "from PyQt5.QtWidgets import QApplication, QWidget, QVBoxLayout, QPushButton, QTextEdit, QLabel\n",
    "from PyQt5.QtCore import Qt\n",
    "from PyQt5.QtGui import QFont\n",
    "\n",
    "class MathAIApp(QWidget):\n",
    "    def __init__(self):\n",
    "        super().__init__()\n",
    "        self.initUI()\n",
    "\n",
    "    def initUI(self):\n",
    "        self.setWindowTitle('MATH AI: Word Problems Solved')\n",
    "        self.setGeometry(100, 100, 800, 600)\n",
    "\n",
    "        # Apply dark background color to the entire application\n",
    "        self.setStyleSheet(\"background-color: #333333; color: white;\")\n",
    "\n",
    "        # Welcome Screen\n",
    "        self.welcome_label = QLabel(\"Welcome To MATH AI: Word Problems Solved\")\n",
    "        self.welcome_label.setFont(QFont(\"Arial\", 16, QFont.Bold))\n",
    "        self.welcome_next_button = QPushButton(\"Next\")\n",
    "        self.welcome_next_button.setFont(QFont(\"Arial\", 12))\n",
    "        self.welcome_next_button.clicked.connect(self.showMainScreen)\n",
    "\n",
    "        # Apply dark style to the Next button\n",
    "        self.style_button(self.welcome_next_button)\n",
    "\n",
    "        welcome_layout = QVBoxLayout()\n",
    "        welcome_layout.addStretch(1)\n",
    "        welcome_layout.addWidget(self.welcome_label, alignment=Qt.AlignmentFlag.AlignCenter)\n",
    "        welcome_layout.addWidget(self.welcome_next_button, alignment=Qt.AlignmentFlag.AlignCenter)\n",
    "        welcome_layout.addStretch(1)\n",
    "\n",
    "        self.welcome_screen = QWidget()\n",
    "        self.welcome_screen.setLayout(welcome_layout)\n",
    "\n",
    "        # Main Screen\n",
    "        self.input_label = QLabel(\"Input Word Problem:\")\n",
    "        self.input_text = QTextEdit()\n",
    "        self.generated_label = QLabel(\"Generated Equation:\")\n",
    "        self.generated_equation = QTextEdit()\n",
    "        self.generated_equation.setReadOnly(True)\n",
    "        self.solve_label = QLabel(\"Solved Equation:\")\n",
    "        self.solved_equation = QTextEdit()\n",
    "        self.solved_equation.setReadOnly(True)\n",
    "\n",
    "        # Style the input and output boxes\n",
    "        self.style_text_box(self.input_text)\n",
    "        self.style_text_box(self.generated_equation)\n",
    "        self.style_text_box(self.solved_equation)\n",
    "\n",
    "        self.generate_button = QPushButton(\"Generate Equation\")\n",
    "        self.generate_button.setFont(QFont(\"Arial\", 12))\n",
    "        self.generate_button.clicked.connect(self.generateEquation)\n",
    "\n",
    "        # Apply dark style to the Generate button\n",
    "        self.style_button(self.generate_button)\n",
    "\n",
    "        self.solve_button = QPushButton(\"Solve Equation\")\n",
    "        self.solve_button.setFont(QFont(\"Arial\", 12))\n",
    "\n",
    "        # Apply dark style to the Solve button\n",
    "        self.style_button(self.solve_button)\n",
    "\n",
    "        main_layout = QVBoxLayout()\n",
    "        input_layout = QVBoxLayout()\n",
    "        input_layout.addWidget(self.input_label)\n",
    "        input_layout.addWidget(self.input_text)\n",
    "        generated_layout = QVBoxLayout()\n",
    "        generated_layout.addWidget(self.generated_label)\n",
    "        generated_layout.addWidget(self.generated_equation)\n",
    "        solve_layout = QVBoxLayout()\n",
    "        solve_layout.addWidget(self.solve_label)\n",
    "        solve_layout.addWidget(self.solved_equation)\n",
    "\n",
    "        main_layout.addLayout(input_layout)\n",
    "        main_layout.addWidget(self.generate_button, alignment=Qt.AlignmentFlag.AlignCenter)\n",
    "        main_layout.addLayout(generated_layout)\n",
    "        main_layout.addWidget(self.solve_button, alignment=Qt.AlignmentFlag.AlignCenter)\n",
    "        main_layout.addLayout(solve_layout)\n",
    "\n",
    "        # Apply dark style to the main layout\n",
    "        main_layout.setContentsMargins(20, 20, 20, 20)\n",
    "\n",
    "        self.main_screen = QWidget()\n",
    "        self.main_screen.setLayout(main_layout)\n",
    "        self.main_screen.hide()\n",
    "\n",
    "        # Stack both screens\n",
    "        self.stack = QVBoxLayout()\n",
    "        self.stack.addWidget(self.welcome_screen)\n",
    "        self.stack.addWidget(self.main_screen)\n",
    "\n",
    "        self.setLayout(self.stack)\n",
    "\n",
    "    def showMainScreen(self):\n",
    "        self.welcome_screen.hide()\n",
    "        self.main_screen.show()\n",
    "\n",
    "    def generateEquation(self):\n",
    "        # Get the user input problem\n",
    "        problem = self.input_text.toPlainText()\n",
    "\n",
    "        # Call the solve function and capture the output\n",
    "        predicted_translation = self.solve(problem, plot='decoder_layer4_block2', plot_Attention_Weights=False)\n",
    "\n",
    "        # Display the predicted translation in the Generated Equation area\n",
    "        self.generated_equation.setPlainText(predicted_translation)\n",
    "\n",
    "    \n",
    "    def solve(self, problem, plot, plot_Attention_Weights):\n",
    "        # Your solve logic\n",
    "        prediction, attention_weights = evaluate(problem)\n",
    "        predicted_expression = [Y_lang_tokenizer.index_word[i] \\\n",
    "                              for i in list(prediction.numpy()) \\\n",
    "                              if (i < len(Y_lang_tokenizer.word_index) and i not in [0, 46, 47])]\n",
    "        input_text = problem\n",
    "        predicted_translation = ' '.join(predicted_expression)\n",
    "\n",
    "        # Update the UI with the predicted translation\n",
    "        self.generated_equation.setPlainText(predicted_translation)\n",
    "\n",
    "        # If needed, add logic for attention weight plotting here\n",
    "        # plot_attention_weights(attention_weights, problem, prediction, plot)\n",
    "\n",
    "        return predicted_translation\n",
    "    \n",
    "\n",
    "    def style_button(self, button):\n",
    "        # Apply dark style to the buttons\n",
    "        button.setStyleSheet(\"QPushButton { background-color: #007BFF; color: white; padding: 8px 16px; border: none; border-radius: 5px; }\"\n",
    "                             \"QPushButton:hover { background-color: #0056b3; }\")\n",
    "\n",
    "    def style_text_box(self, text_box):\n",
    "        # Apply dark style to the text boxes\n",
    "        text_box.setStyleSheet(\"QTextEdit { background-color: #444444; color: white; border: 1px solid #666666; border-radius: 5px; }\")\n",
    "\n",
    "def main():\n",
    "    app = QApplication(sys.argv)\n",
    "    math_ai = MathAIApp()\n",
    "    math_ai.show()\n",
    "    sys.exit(app.exec_())\n",
    "\n",
    "if __name__ == '__main__':\n",
    "    main()\n",
    "'''\n",
    "    \n",
    "    \n",
    "    "
   ]
  },
  {
   "cell_type": "code",
   "execution_count": null,
   "metadata": {},
   "outputs": [],
   "source": [
    "'''import sys\n",
    "from PyQt5.QtWidgets import QApplication, QWidget, QVBoxLayout, QPushButton, QTextEdit, QLabel\n",
    "from PyQt5.QtCore import Qt\n",
    "from PyQt5.QtGui import QFont\n",
    "import re\n",
    "import math\n",
    "\n",
    "class MathAIApp(QWidget):\n",
    "    def __init__(self):\n",
    "        super().__init__()\n",
    "        self.initUI()\n",
    "\n",
    "    def initUI(self):\n",
    "        self.setWindowTitle('MATH AI: Word Problems Solved')\n",
    "        self.setGeometry(100, 100, 800, 600)\n",
    "\n",
    "        # Apply dark background color to the entire application\n",
    "        self.setStyleSheet(\"background-color: #333333; color: white;\")\n",
    "\n",
    "        # Welcome Screen\n",
    "        self.welcome_label = QLabel(\"Welcome To MATH AI: Word Problems Solved\")\n",
    "        self.welcome_label.setFont(QFont(\"Arial\", 16, QFont.Bold))\n",
    "        self.welcome_next_button = QPushButton(\"Next\")\n",
    "        self.welcome_next_button.setFont(QFont(\"Arial\", 12))\n",
    "        self.welcome_next_button.clicked.connect(self.showMainScreen)\n",
    "\n",
    "        # Apply dark style to the Next button\n",
    "        self.style_button(self.welcome_next_button)\n",
    "\n",
    "        welcome_layout = QVBoxLayout()\n",
    "        welcome_layout.addStretch(1)\n",
    "        welcome_layout.addWidget(self.welcome_label, alignment=Qt.AlignmentFlag.AlignCenter)\n",
    "        welcome_layout.addWidget(self.welcome_next_button, alignment=Qt.AlignmentFlag.AlignCenter)\n",
    "        welcome_layout.addStretch(1)\n",
    "\n",
    "        self.welcome_screen = QWidget()\n",
    "        self.welcome_screen.setLayout(welcome_layout)\n",
    "\n",
    "        # Main Screen\n",
    "        self.input_label = QLabel(\"Input Word Problem:\")\n",
    "        self.input_text = QTextEdit()\n",
    "        self.generated_label = QLabel(\"Generated Equation:\")\n",
    "        self.generated_equation = QTextEdit()\n",
    "        self.generated_equation.setReadOnly(True)\n",
    "        self.solve_label = QLabel(\"Solved Equation:\")\n",
    "        self.solved_equation = QTextEdit()\n",
    "        self.solved_equation.setReadOnly(True)\n",
    "\n",
    "        # Style the input and output boxes\n",
    "        self.style_text_box(self.input_text)\n",
    "        self.style_text_box(self.generated_equation)\n",
    "        self.style_text_box(self.solved_equation)\n",
    "\n",
    "        self.generate_button = QPushButton(\"Generate Equation\")\n",
    "        self.generate_button.setFont(QFont(\"Arial\", 12))\n",
    "        self.generate_button.clicked.connect(self.generateEquation)\n",
    "\n",
    "        # Apply dark style to the Generate button\n",
    "        self.style_button(self.generate_button)\n",
    "\n",
    "        self.solve_button = QPushButton(\"Solve Equation\")\n",
    "        self.solve_button.setFont(QFont(\"Arial\", 12))\n",
    "        self.solve_button.clicked.connect(self.solveEquation)  # Connect the button to the solveEquation method\n",
    "\n",
    "        # Apply dark style to the Solve button\n",
    "        self.style_button(self.solve_button)\n",
    "\n",
    "        main_layout = QVBoxLayout()\n",
    "        input_layout = QVBoxLayout()\n",
    "        input_layout.addWidget(self.input_label)\n",
    "        input_layout.addWidget(self.input_text)\n",
    "        generated_layout = QVBoxLayout()\n",
    "        generated_layout.addWidget(self.generated_label)\n",
    "        generated_layout.addWidget(self.generated_equation)\n",
    "        solve_layout = QVBoxLayout()\n",
    "        solve_layout.addWidget(self.solve_label)\n",
    "        solve_layout.addWidget(self.solved_equation)\n",
    "\n",
    "        main_layout.addLayout(input_layout)\n",
    "        main_layout.addWidget(self.generate_button, alignment=Qt.AlignmentFlag.AlignCenter)\n",
    "        main_layout.addLayout(generated_layout)\n",
    "        main_layout.addWidget(self.solve_button, alignment=Qt.AlignmentFlag.AlignCenter)\n",
    "        main_layout.addLayout(solve_layout)\n",
    "\n",
    "        # Apply dark style to the main layout\n",
    "        main_layout.setContentsMargins(20, 20, 20, 20)\n",
    "\n",
    "        self.main_screen = QWidget()\n",
    "        self.main_screen.setLayout(main_layout)\n",
    "        self.main_screen.hide()\n",
    "\n",
    "        # Stack both screens\n",
    "        self.stack = QVBoxLayout()\n",
    "        self.stack.addWidget(self.welcome_screen)\n",
    "        self.stack.addWidget(self.main_screen)\n",
    "\n",
    "        self.setLayout(self.stack)\n",
    "\n",
    "    def showMainScreen(self):\n",
    "        self.welcome_screen.hide()\n",
    "        self.main_screen.show()\n",
    "\n",
    "    def generateEquation(self):\n",
    "        # Get the user input problem\n",
    "        problem = self.input_text.toPlainText()\n",
    "\n",
    "        # Call the solve function and capture the output\n",
    "        predicted_translation = self.solve(problem)\n",
    "\n",
    "        # Display the generated equation in the \"Generated Equation\" text box\n",
    "        self.generated_equation.setPlainText(predicted_translation)\n",
    "\n",
    "    def solveEquation(self):\n",
    "        # Get the generated equation\n",
    "        generated_equation = self.generated_equation.toPlainText()\n",
    "\n",
    "        # Call the solve_equation function and capture the output\n",
    "        solved_equation = self.solve_equation(generated_equation)\n",
    "\n",
    "        # Display the solved equation in the \"Solved Equation\" text box\n",
    "        self.solved_equation.setPlainText(solved_equation)\n",
    "\n",
    "    def solve_equation(self, equation):\n",
    "        try:\n",
    "            # Split the equation by '=' to get the variable and the expression\n",
    "            variable, expression = equation.split('=')\n",
    "            variable = variable.strip()\n",
    "            expression = expression.strip()\n",
    "\n",
    "            # Ensure the expression follows BODMAS rules by evaluating it using custom code\n",
    "            result = self.evaluate_expression(expression)\n",
    "            return f\"{variable} = {result}\"\n",
    "        except Exception as e:\n",
    "            return f\"Error: {str(e)}\"\n",
    "\n",
    "    def evaluate_expression(self, expression):\n",
    "        try:\n",
    "            # Split the expression by spaces and evaluate it following BODMAS rules\n",
    "            parts = re.findall(r'(\\d+|\\+|\\-|\\*|/|\\(|\\))', expression)\n",
    "            cleaned_expression = ' '.join(parts)\n",
    "            result = eval(cleaned_expression)\n",
    "            return result\n",
    "        except Exception as e:\n",
    "            return f\"Invalid Expression\"\n",
    "\n",
    "    def solve(problem, plot='', plot_Attention_Weights=False):\n",
    "        prediction, attention_weights = evaluate(problem)\n",
    "        predicted_expression = [Y_lang_tokenizer.index_word[i] \\\n",
    "                              for i in list(prediction.numpy()) \\\n",
    "                              if (i < len(Y_lang_tokenizer.word_index) and i not in [0, 46, 47])]\n",
    "        input_text = problem\n",
    "        predicted_translation = ' '.join(predicted_expression)\n",
    "\n",
    "        print(f'Input: {input_text}')\n",
    "        print(f'Predicted translation: {predicted_translation}')\n",
    "\n",
    "\n",
    "\n",
    "        if plot_Attention_Weights:\n",
    "            plot_attention_weights(attention_weights, problem, prediction, plot)\n",
    "\n",
    "        return\n",
    "\n",
    "    def style_button(self, button):\n",
    "        # Apply dark style to the buttons\n",
    "        button.setStyleSheet(\"QPushButton { background-color: #007BFF; color: white; padding: 8px 16px; border: none; border-radius: 5px; }\"\n",
    "                             \"QPushButton:hover { background-color: #0056b3; }\")\n",
    "\n",
    "    def style_text_box(self, text_box):\n",
    "        # Apply dark style to the text boxes\n",
    "        text_box.setStyleSheet(\"QTextEdit { background-color: #444444; color: white; border: 1px solid #666666; border-radius: 5px; }\")\n",
    "\n",
    "def main():\n",
    "    app = QApplication(sys.argv)\n",
    "    math_ai = MathAIApp()\n",
    "    math_ai.show()\n",
    "    sys.exit(app.exec_())\n",
    "\n",
    "if __name__ == '__main__':\n",
    "    main()\n",
    "'''"
   ]
  },
  {
   "cell_type": "code",
   "execution_count": null,
   "metadata": {},
   "outputs": [],
   "source": [
    "'''import sys\n",
    "from PyQt5.QtWidgets import QApplication, QWidget, QVBoxLayout, QPushButton, QTextEdit, QLabel\n",
    "from PyQt5.QtCore import Qt\n",
    "from PyQt5.QtGui import QFont\n",
    "import re\n",
    "import sympy\n",
    "\n",
    "\n",
    "class MathAIApp(QWidget):\n",
    "    def __init__(self):\n",
    "        super().__init__()\n",
    "        self.initUI()\n",
    "\n",
    "    def initUI(self):\n",
    "        self.setWindowTitle('MATH AI: Word Problems Solved')\n",
    "        self.setGeometry(100, 100, 800, 600)\n",
    "        self.setStyleSheet(\"background-color: #333333; color: white;\")\n",
    "\n",
    "        self.welcome_label = QLabel(\"Welcome To MATH AI: Word Problems Solved\")\n",
    "        self.welcome_label.setFont(QFont(\"Arial\", 16, QFont.Bold))\n",
    "        self.welcome_next_button = QPushButton(\"Next\")\n",
    "        self.welcome_next_button.setFont(QFont(\"Arial\", 12))\n",
    "        self.welcome_next_button.clicked.connect(self.showMainScreen)\n",
    "        self.style_button(self.welcome_next_button)\n",
    "\n",
    "        welcome_layout = QVBoxLayout()\n",
    "        welcome_layout.addStretch(1)\n",
    "        welcome_layout.addWidget(self.welcome_label, alignment=Qt.AlignmentFlag.AlignCenter)\n",
    "        welcome_layout.addWidget(self.welcome_next_button, alignment=Qt.AlignmentFlag.AlignCenter)\n",
    "        welcome_layout.addStretch(1)\n",
    "        self.welcome_screen = QWidget()\n",
    "        self.welcome_screen.setLayout(welcome_layout)\n",
    "\n",
    "        self.input_label = QLabel(\"Input Word Problem:\")\n",
    "        self.input_text = QTextEdit()\n",
    "        self.generated_label = QLabel(\"Generated Equation:\")\n",
    "        self.generated_equation = QTextEdit()\n",
    "        self.generated_equation.setReadOnly(True)\n",
    "        self.solve_label = QLabel(\"Solved Equation:\")\n",
    "        self.solved_equation = QTextEdit()\n",
    "        self.solved_equation.setReadOnly(True)\n",
    "        self.style_text_box(self.input_text)\n",
    "        self.style_text_box(self.generated_equation)\n",
    "        self.style_text_box(self.solved_equation)\n",
    "\n",
    "        self.generate_button = QPushButton(\"Generate Equation\")\n",
    "        self.generate_button.setFont(QFont(\"Arial\", 12))\n",
    "        self.generate_button.clicked.connect(self.generateEquation)\n",
    "        self.style_button(self.generate_button)\n",
    "\n",
    "        self.solve_button = QPushButton(\"Solve Equation\")\n",
    "        self.solve_button.setFont(QFont(\"Arial\", 12))\n",
    "        self.solve_button.clicked.connect(self.solveEquation)\n",
    "        self.style_button(self.solve_button)\n",
    "\n",
    "        main_layout = QVBoxLayout()\n",
    "        input_layout = QVBoxLayout()\n",
    "        input_layout.addWidget(self.input_label)\n",
    "        input_layout.addWidget(self.input_text)\n",
    "        generated_layout = QVBoxLayout()\n",
    "        generated_layout.addWidget(self.generated_label)\n",
    "        generated_layout.addWidget(self.generated_equation)\n",
    "        solve_layout = QVBoxLayout()\n",
    "        solve_layout.addWidget(self.solve_label)\n",
    "        solve_layout.addWidget(self.solved_equation)\n",
    "\n",
    "        main_layout.addLayout(input_layout)\n",
    "        main_layout.addWidget(self.generate_button, alignment=Qt.AlignmentFlag.AlignCenter)\n",
    "        main_layout.addLayout(generated_layout)\n",
    "        main_layout.addWidget(self.solve_button, alignment=Qt.AlignmentFlag.AlignCenter)\n",
    "        main_layout.addLayout(solve_layout)\n",
    "\n",
    "        main_layout.setContentsMargins(20, 20, 20, 20)\n",
    "        self.main_screen = QWidget()\n",
    "        self.main_screen.setLayout(main_layout)\n",
    "        self.main_screen.hide()\n",
    "\n",
    "        self.stack = QVBoxLayout()\n",
    "        self.stack.addWidget(self.welcome_screen)\n",
    "        self.stack.addWidget(self.main_screen)\n",
    "\n",
    "        self.setLayout(self.stack)\n",
    "\n",
    "    def showMainScreen(self):\n",
    "        self.welcome_screen.hide()\n",
    "        self.main_screen.show()\n",
    "\n",
    "    def generateEquation(self):\n",
    "        problem = self.input_text.toPlainText()\n",
    "        predicted_translation = self.solve(problem, plot='decoder_layer4_block2', plot_Attention_Weights=False)\n",
    "        self.generated_equation.setPlainText(predicted_translation)\n",
    "\n",
    "    def solveEquation(self):\n",
    "        equation = self.generated_equation.toPlainText()\n",
    "        result = self.solve_equation(equation)\n",
    "        self.solved_equation.setPlainText(result)\n",
    "\n",
    "    def solve_equation(self, equation):\n",
    "        # Remove unnecessary spaces from the equation\n",
    "        cleaned_equation = re.sub(r'\\s+', '', equation)\n",
    "\n",
    "        try:\n",
    "            x = sympy.symbols('x')\n",
    "            equation_result = sympy.solve(sympy.Eq(x, sympy.sympify(cleaned_equation)), x)\n",
    "\n",
    "            if equation_result:\n",
    "                result = equation_result[0]\n",
    "            else:\n",
    "                result = \"No solution found\"\n",
    "        except Exception as e:\n",
    "            result = str(e)\n",
    "\n",
    "        return str(result)\n",
    "\n",
    "    def solve(self, problem, plot, plot_Attention_Weights):\n",
    "        prediction, attention_weights = evaluate(problem)  # Call your evaluate function\n",
    "        predicted_expression = [Y_lang_tokenizer.index_word[i] for i in list(prediction.numpy())\n",
    "                                if (i < len(Y_lang_tokenizer.word_index) and i not in [0, 46, 47])]\n",
    "        input_text = problem\n",
    "        predicted_translation = ' '.join(predicted_expression)\n",
    "        self.generated_equation.setPlainText(predicted_translation)\n",
    "\n",
    "    def style_button(self, button):\n",
    "        button.setStyleSheet(\"QPushButton { background-color: #007BFF; color: white; padding: 8px 16px; \"\n",
    "                             \"border: none; border-radius: 5px; }\"\n",
    "                             \"QPushButton:hover { background-color: #0056b3; }\")\n",
    "\n",
    "    def style_text_box(self, text_box):\n",
    "        text_box.setStyleSheet(\"QTextEdit { background-color: #444444; color: white; border: 1px solid #666666; \"\n",
    "                               \"border-radius: 5px; }\")\n",
    "\n",
    "def main():\n",
    "    app = QApplication(sys.argv)\n",
    "    math_ai = MathAIApp()\n",
    "    math_ai.show()\n",
    "    sys.exit(app.exec_())\n",
    "\n",
    "if __name__ == '__main__':\n",
    "    main()\n",
    "'''"
   ]
  }
 ],
 "metadata": {
  "colab": {
   "provenance": []
  },
  "kernelspec": {
   "display_name": "Python 3 (ipykernel)",
   "language": "python",
   "name": "python3"
  },
  "language_info": {
   "codemirror_mode": {
    "name": "ipython",
    "version": 3
   },
   "file_extension": ".py",
   "mimetype": "text/x-python",
   "name": "python",
   "nbconvert_exporter": "python",
   "pygments_lexer": "ipython3",
   "version": "3.11.3"
  }
 },
 "nbformat": 4,
 "nbformat_minor": 1
}
